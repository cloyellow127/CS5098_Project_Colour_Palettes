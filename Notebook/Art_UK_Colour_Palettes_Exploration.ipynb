{
 "cells": [
  {
   "cell_type": "code",
   "execution_count": 2,
   "id": "animal-processing",
   "metadata": {
    "scrolled": false
   },
   "outputs": [],
   "source": [
    "import pandas as pd\n",
    "import numpy as np\n",
    "from PIL import Image\n",
    "import math\n",
    "import os\n",
    "from os import path\n",
    "from pathlib import Path\n",
    "import sys\n",
    "import matplotlib.pyplot as plt\n",
    "import cv2\n",
    "from mpl_toolkits.mplot3d import Axes3D\n",
    "from matplotlib import cm\n",
    "from matplotlib import colors\n",
    "from skimage.io import imshow, imread\n",
    "from skimage.color import rgb2hsv, hsv2rgb\n",
    "import ipywidgets as widgets\n",
    "from ipywidgets import interact, interact_manual\n",
    "from IPython.display import clear_output\n",
    "from IPython.display import display, HTML\n",
    "from sklearn.cluster import KMeans\n",
    "sys.path.append(path.abspath('../MSc-CS-Project---ColourPaletteExtractor-master/'))\n",
    "from colourpaletteextractor.model import model"
   ]
  },
  {
   "cell_type": "markdown",
   "id": "100fd125",
   "metadata": {},
   "source": [
    "### Choose directory of images you want to analsye here"
   ]
  },
  {
   "cell_type": "code",
   "execution_count": 3,
   "id": "5b517708",
   "metadata": {},
   "outputs": [
    {
     "data": {
      "application/vnd.jupyter.widget-view+json": {
       "model_id": "36ee136258364feebfbfae769ceb309c",
       "version_major": 2,
       "version_minor": 0
      },
      "text/plain": [
       "interactive(children=(Dropdown(description='folder', options=('joseph_Mallord_william_turner', 'LICENSE', 'MSc…"
      ]
     },
     "metadata": {},
     "output_type": "display_data"
    }
   ],
   "source": [
    "foldername = ''\n",
    "@interact\n",
    "def choose_img_folder(folder = [f for f in os.listdir('../') if '.' not in f]):\n",
    "    global foldername\n",
    "    foldername = folder"
   ]
  },
  {
   "cell_type": "code",
   "execution_count": 8,
   "id": "c78cc99f",
   "metadata": {},
   "outputs": [
    {
     "data": {
      "text/html": [
       "<div>\n",
       "<style scoped>\n",
       "    .dataframe tbody tr th:only-of-type {\n",
       "        vertical-align: middle;\n",
       "    }\n",
       "\n",
       "    .dataframe tbody tr th {\n",
       "        vertical-align: top;\n",
       "    }\n",
       "\n",
       "    .dataframe thead th {\n",
       "        text-align: right;\n",
       "    }\n",
       "</style>\n",
       "<table border=\"1\" class=\"dataframe\">\n",
       "  <thead>\n",
       "    <tr style=\"text-align: right;\">\n",
       "      <th></th>\n",
       "      <th>Title</th>\n",
       "      <th>Artist</th>\n",
       "      <th>Creation_Date</th>\n",
       "      <th>estimate_year</th>\n",
       "      <th>url</th>\n",
       "      <th>img_URL</th>\n",
       "      <th>Medium</th>\n",
       "      <th>height_cm</th>\n",
       "      <th>width_cm</th>\n",
       "      <th>Accession_number</th>\n",
       "    </tr>\n",
       "  </thead>\n",
       "  <tbody>\n",
       "    <tr>\n",
       "      <th>0</th>\n",
       "      <td>Mrs Reid, with Betsy the Cow, Pilmuir</td>\n",
       "      <td>J. E. D. Murray</td>\n",
       "      <td>1889.0</td>\n",
       "      <td>1889.0</td>\n",
       "      <td>https://artuk.org/discover/artworks/mrs-reid-w...</td>\n",
       "      <td>https://d3d00swyhr67nd.cloudfront.net/w1200h12...</td>\n",
       "      <td>oil on canvas</td>\n",
       "      <td>54.9</td>\n",
       "      <td>75.2</td>\n",
       "      <td>HAK_7709</td>\n",
       "    </tr>\n",
       "    <tr>\n",
       "      <th>1</th>\n",
       "      <td>Feeding Time</td>\n",
       "      <td>Joseph Denovan Adam</td>\n",
       "      <td>1885.0</td>\n",
       "      <td>1885.0</td>\n",
       "      <td>https://artuk.org/discover/artworks/feeding-ti...</td>\n",
       "      <td>https://d3d00swyhr67nd.cloudfront.net/w1200h12...</td>\n",
       "      <td>oil on canvas</td>\n",
       "      <td>51.0</td>\n",
       "      <td>83.0</td>\n",
       "      <td>DB2042.26</td>\n",
       "    </tr>\n",
       "    <tr>\n",
       "      <th>2</th>\n",
       "      <td>Italian Baby</td>\n",
       "      <td>John Charles Lamont</td>\n",
       "      <td>NaN</td>\n",
       "      <td>NaN</td>\n",
       "      <td>https://artuk.org/discover/artworks/italian-ba...</td>\n",
       "      <td>https://d3d00swyhr67nd.cloudfront.net/w1200h12...</td>\n",
       "      <td>oil on canvas</td>\n",
       "      <td>57.0</td>\n",
       "      <td>31.0</td>\n",
       "      <td>DB2091.5</td>\n",
       "    </tr>\n",
       "    <tr>\n",
       "      <th>3</th>\n",
       "      <td>David Kirk</td>\n",
       "      <td>Cowan Johnson</td>\n",
       "      <td>NaN</td>\n",
       "      <td>NaN</td>\n",
       "      <td>https://artuk.org/discover/artworks/david-kirk...</td>\n",
       "      <td>https://d3d00swyhr67nd.cloudfront.net/w1200h12...</td>\n",
       "      <td>oil on canvas</td>\n",
       "      <td>60.7</td>\n",
       "      <td>50.2</td>\n",
       "      <td>PCF 4</td>\n",
       "    </tr>\n",
       "    <tr>\n",
       "      <th>4</th>\n",
       "      <td>Great Fire of Edinburgh, 16 November 1924</td>\n",
       "      <td>W. Turner</td>\n",
       "      <td>NaN</td>\n",
       "      <td>NaN</td>\n",
       "      <td>https://artuk.org/discover/artworks/great-fire...</td>\n",
       "      <td>https://d3d00swyhr67nd.cloudfront.net/w1200h12...</td>\n",
       "      <td>oil on canvas</td>\n",
       "      <td>26.0</td>\n",
       "      <td>36.5</td>\n",
       "      <td>PCF11</td>\n",
       "    </tr>\n",
       "    <tr>\n",
       "      <th>5</th>\n",
       "      <td>Landscape with Cows and Horses</td>\n",
       "      <td>NaN</td>\n",
       "      <td>NaN</td>\n",
       "      <td>NaN</td>\n",
       "      <td>https://artuk.org/discover/artworks/landscape-...</td>\n",
       "      <td>https://d3d00swyhr67nd.cloudfront.net/w1200h12...</td>\n",
       "      <td>oil on canvas</td>\n",
       "      <td>72.0</td>\n",
       "      <td>99.0</td>\n",
       "      <td>2010.34</td>\n",
       "    </tr>\n",
       "    <tr>\n",
       "      <th>6</th>\n",
       "      <td>Aldroughty House, Moray</td>\n",
       "      <td>John Moir</td>\n",
       "      <td>1844.0</td>\n",
       "      <td>1844.0</td>\n",
       "      <td>https://artuk.org/discover/artworks/aldroughty...</td>\n",
       "      <td>https://d3d00swyhr67nd.cloudfront.net/w944h944...</td>\n",
       "      <td>oil on canvas</td>\n",
       "      <td>68.0</td>\n",
       "      <td>88.0</td>\n",
       "      <td>ABDUA 31860</td>\n",
       "    </tr>\n",
       "    <tr>\n",
       "      <th>7</th>\n",
       "      <td>A School Girl</td>\n",
       "      <td>James Cowie</td>\n",
       "      <td>1933.0</td>\n",
       "      <td>1933.0</td>\n",
       "      <td>https://artuk.org/discover/artworks/a-school-g...</td>\n",
       "      <td>https://d3d00swyhr67nd.cloudfront.net/w944h944...</td>\n",
       "      <td>acrylic on board</td>\n",
       "      <td>61.0</td>\n",
       "      <td>51.0</td>\n",
       "      <td>99.129</td>\n",
       "    </tr>\n",
       "    <tr>\n",
       "      <th>8</th>\n",
       "      <td>The White Calf</td>\n",
       "      <td>Henryk Gotlib</td>\n",
       "      <td>1948.0</td>\n",
       "      <td>1948.0</td>\n",
       "      <td>https://artuk.org/discover/artworks/the-white-...</td>\n",
       "      <td>https://d3d00swyhr67nd.cloudfront.net/w944h944...</td>\n",
       "      <td>oil on canvas</td>\n",
       "      <td>76.8</td>\n",
       "      <td>95.3</td>\n",
       "      <td>GLAEX A313</td>\n",
       "    </tr>\n",
       "    <tr>\n",
       "      <th>9</th>\n",
       "      <td>Lady in Blue</td>\n",
       "      <td>George Harcourt</td>\n",
       "      <td>NaN</td>\n",
       "      <td>NaN</td>\n",
       "      <td>https://artuk.org/discover/artworks/lady-in-bl...</td>\n",
       "      <td>https://d3d00swyhr67nd.cloudfront.net/w1200h12...</td>\n",
       "      <td>oil on canvas</td>\n",
       "      <td>115.0</td>\n",
       "      <td>94.0</td>\n",
       "      <td>WDBCS.2005.1219</td>\n",
       "    </tr>\n",
       "  </tbody>\n",
       "</table>\n",
       "</div>"
      ],
      "text/plain": [
       "                                       Title               Artist  \\\n",
       "0      Mrs Reid, with Betsy the Cow, Pilmuir      J. E. D. Murray   \n",
       "1                               Feeding Time  Joseph Denovan Adam   \n",
       "2                               Italian Baby  John Charles Lamont   \n",
       "3                                 David Kirk        Cowan Johnson   \n",
       "4  Great Fire of Edinburgh, 16 November 1924            W. Turner   \n",
       "5             Landscape with Cows and Horses                  NaN   \n",
       "6                    Aldroughty House, Moray            John Moir   \n",
       "7                              A School Girl          James Cowie   \n",
       "8                             The White Calf        Henryk Gotlib   \n",
       "9                               Lady in Blue      George Harcourt   \n",
       "\n",
       "   Creation_Date  estimate_year  \\\n",
       "0         1889.0         1889.0   \n",
       "1         1885.0         1885.0   \n",
       "2            NaN            NaN   \n",
       "3            NaN            NaN   \n",
       "4            NaN            NaN   \n",
       "5            NaN            NaN   \n",
       "6         1844.0         1844.0   \n",
       "7         1933.0         1933.0   \n",
       "8         1948.0         1948.0   \n",
       "9            NaN            NaN   \n",
       "\n",
       "                                                 url  \\\n",
       "0  https://artuk.org/discover/artworks/mrs-reid-w...   \n",
       "1  https://artuk.org/discover/artworks/feeding-ti...   \n",
       "2  https://artuk.org/discover/artworks/italian-ba...   \n",
       "3  https://artuk.org/discover/artworks/david-kirk...   \n",
       "4  https://artuk.org/discover/artworks/great-fire...   \n",
       "5  https://artuk.org/discover/artworks/landscape-...   \n",
       "6  https://artuk.org/discover/artworks/aldroughty...   \n",
       "7  https://artuk.org/discover/artworks/a-school-g...   \n",
       "8  https://artuk.org/discover/artworks/the-white-...   \n",
       "9  https://artuk.org/discover/artworks/lady-in-bl...   \n",
       "\n",
       "                                             img_URL            Medium  \\\n",
       "0  https://d3d00swyhr67nd.cloudfront.net/w1200h12...     oil on canvas   \n",
       "1  https://d3d00swyhr67nd.cloudfront.net/w1200h12...     oil on canvas   \n",
       "2  https://d3d00swyhr67nd.cloudfront.net/w1200h12...     oil on canvas   \n",
       "3  https://d3d00swyhr67nd.cloudfront.net/w1200h12...     oil on canvas   \n",
       "4  https://d3d00swyhr67nd.cloudfront.net/w1200h12...     oil on canvas   \n",
       "5  https://d3d00swyhr67nd.cloudfront.net/w1200h12...     oil on canvas   \n",
       "6  https://d3d00swyhr67nd.cloudfront.net/w944h944...     oil on canvas   \n",
       "7  https://d3d00swyhr67nd.cloudfront.net/w944h944...  acrylic on board   \n",
       "8  https://d3d00swyhr67nd.cloudfront.net/w944h944...     oil on canvas   \n",
       "9  https://d3d00swyhr67nd.cloudfront.net/w1200h12...     oil on canvas   \n",
       "\n",
       "   height_cm  width_cm Accession_number  \n",
       "0       54.9      75.2         HAK_7709  \n",
       "1       51.0      83.0        DB2042.26  \n",
       "2       57.0      31.0         DB2091.5  \n",
       "3       60.7      50.2            PCF 4  \n",
       "4       26.0      36.5            PCF11  \n",
       "5       72.0      99.0          2010.34  \n",
       "6       68.0      88.0      ABDUA 31860  \n",
       "7       61.0      51.0           99.129  \n",
       "8       76.8      95.3       GLAEX A313  \n",
       "9      115.0      94.0  WDBCS.2005.1219  "
      ]
     },
     "execution_count": 8,
     "metadata": {},
     "output_type": "execute_result"
    }
   ],
   "source": [
    "# loading dataframe\n",
    "art_meta = pd.read_csv('../' + foldername + '.csv')\n",
    "art_colour = pd.read_csv('../' + foldername + '_colours.csv')\n",
    "# art_meta[art_meta['Accession_number'] == '700']\n",
    "art_meta"
   ]
  },
  {
   "cell_type": "markdown",
   "id": "0270ce50",
   "metadata": {},
   "source": [
    "# Manual image Segmentation by RGB/ HSV values"
   ]
  },
  {
   "cell_type": "code",
   "execution_count": 5,
   "id": "714296e6",
   "metadata": {},
   "outputs": [
    {
     "data": {
      "application/vnd.jupyter.widget-view+json": {
       "model_id": "b092e107644a4bccb8048220aefa6275",
       "version_major": 2,
       "version_minor": 0
      },
      "text/plain": [
       "interactive(children=(Dropdown(description='image', options=('0. Mrs Reid, with Betsy the Cow, Pilmuir', '1. F…"
      ]
     },
     "metadata": {},
     "output_type": "display_data"
    }
   ],
   "source": [
    "def colour_palette_to_tuple_rgba(row):\n",
    "    templist = []\n",
    "    for i in range(3):\n",
    "        if row[i] < 0:\n",
    "            templist.append(256 + row[i])\n",
    "        else:\n",
    "            templist.append(row[i])\n",
    "    return (templist[0] / 255, templist[1] / 255, templist[2] / 255)\n",
    "\n",
    "def colour_palette_to_positive(row):\n",
    "    templist = []\n",
    "    for i in range(3):\n",
    "        if row[i] < 0:\n",
    "            templist.append(256 + row[i])\n",
    "        else:\n",
    "            templist.append(row[i])\n",
    "    return (templist[0], templist[1], templist[2])\n",
    "\n",
    "def colour_palette_to_positive_int(row):\n",
    "    templist = []\n",
    "    for i in range(3):\n",
    "        if row[i] < 0:\n",
    "            templist.append(256 + row[i])\n",
    "        else:\n",
    "            templist.append(row[i])\n",
    "    return (int(templist[0]), int(templist[1]), int(templist[2]))\n",
    "\n",
    "def show_color_pie(num):\n",
    "    Tasks = art_colour[art_colour[\"id\"] == num][\"freqency\"].values.tolist()\n",
    "    col = art_colour[art_colour[\"id\"] == num][['R', 'G', 'B']].values.tolist()\n",
    "    my_labels = [colour_palette_to_positive(col[i]) for i in range(len(col))]\n",
    "    plt.figure(figsize=(30, 30))\n",
    "    plt.pie(Tasks, labels = my_labels, \n",
    "            colors = [colour_palette_to_tuple_rgba(col[i]) for i in range(len(col))],\n",
    "           autopct = '%1.0f%%',\n",
    "        textprops={'fontsize': 30}\n",
    "           )\n",
    "    plt.title('Colour Palettes', fontsize=50)\n",
    "    plt.axis('equal')\n",
    "\n",
    "@interact\n",
    "def show_img_and_pie(image = [str(n) + \". \" for n in range(len(art_meta))] + art_meta[\"Title\"]):\n",
    "    num = int(image.split('.')[0])\n",
    "    image = cv2.imread(\"../\" + foldername + \"/\" + str(art_meta[\"Accession_number\"][num]) + \".jpg\")\n",
    "    image = cv2.cvtColor(image, cv2.COLOR_BGR2RGB)\n",
    "    plt.figure(figsize=(5, 5))\n",
    "    imshow(image);\n",
    "    show_color_pie(num)\n",
    "    plt.show()"
   ]
  },
  {
   "cell_type": "code",
   "execution_count": 6,
   "id": "808c2e6e",
   "metadata": {},
   "outputs": [
    {
     "data": {
      "application/vnd.jupyter.widget-view+json": {
       "model_id": "8280079d73bf4b779f27f48501889132",
       "version_major": 2,
       "version_minor": 0
      },
      "text/plain": [
       "interactive(children=(Dropdown(description='image', options=('0. Mrs Reid, with Betsy the Cow, Pilmuir', '1. F…"
      ]
     },
     "metadata": {},
     "output_type": "display_data"
    }
   ],
   "source": [
    "@interact\n",
    "def show_img_and_3dRGB(image = [str(n) + \". \" for n in range(len(art_meta))] + art_meta[\"Title\"]):\n",
    "#     clear_output(wait=True)\n",
    "    num = int(image.split('.')[0])\n",
    "    image = cv2.imread(\"../\" + foldername + \"/\" + str(art_meta[\"Accession_number\"][num]) + \".jpg\")\n",
    "    image = cv2.cvtColor(image, cv2.COLOR_BGR2RGB)\n",
    "    plt.figure(figsize=(5, 5))\n",
    "    imshow(image);\n",
    "    \n",
    "    r, g, b = cv2.split(image)\n",
    "    fig = plt.figure(figsize=(10, 10))\n",
    "    axis = fig.add_subplot(1, 1, 1, projection=\"3d\")\n",
    "    pixel_colors = image.reshape((np.shape(image)[0]*np.shape(image)[1], 3))\n",
    "    norm = colors.Normalize(vmin=-1.,vmax=1.)\n",
    "    norm.autoscale(pixel_colors)\n",
    "    pixel_colors = norm(pixel_colors).tolist()\n",
    "    axis.scatter(r.flatten(), g.flatten(), b.flatten(), facecolors = pixel_colors, marker=\".\")\n",
    "    axis.set_xlabel(\"Red\")\n",
    "    axis.set_ylabel(\"Green\")\n",
    "    axis.set_zlabel(\"Blue\")\n",
    "    \n",
    "    plt.show()"
   ]
  },
  {
   "cell_type": "code",
   "execution_count": 7,
   "id": "f6063e88",
   "metadata": {},
   "outputs": [
    {
     "data": {
      "application/vnd.jupyter.widget-view+json": {
       "model_id": "abcfa48e5fb6457b92a4e49c43155db2",
       "version_major": 2,
       "version_minor": 0
      },
      "text/plain": [
       "interactive(children=(Dropdown(description='image', options=('0. Mrs Reid, with Betsy the Cow, Pilmuir', '1. F…"
      ]
     },
     "metadata": {},
     "output_type": "display_data"
    }
   ],
   "source": [
    "def hue_sat_3d(number):\n",
    "    img = cv2.imread(\"../\" + foldername + \"/\" + str(art_meta[\"Accession_number\"][number]) + \".jpg\")\n",
    "    img = cv2.cvtColor(img, cv2.COLOR_BGR2RGB)\n",
    "    hsv_img = cv2.cvtColor(img, cv2.COLOR_RGB2HSV)\n",
    "    h, s, v = cv2.split(hsv_img)\n",
    "    \n",
    "    pixel_colors = img.reshape((np.shape(img)[0]*np.shape(img)[1], 3))\n",
    "    norm = colors.Normalize(vmin=-1.,vmax=1.)\n",
    "    norm.autoscale(pixel_colors)\n",
    "    pixel_colors = norm(pixel_colors).tolist()\n",
    "    \n",
    "    fig = plt.figure(figsize=(15, 15))\n",
    "    axis = fig.add_subplot(1, 1, 1, projection=\"3d\")\n",
    "    axis.scatter(h.flatten(), s.flatten(), v.flatten(), facecolors = pixel_colors, marker=\".\")\n",
    "    axis.set_xlabel(\"Hue\")\n",
    "    axis.set_ylabel(\"Saturation\")\n",
    "    axis.set_zlabel(\"Value\")\n",
    "    plt.show()\n",
    "\n",
    "@interact\n",
    "def show_img_and_3dHSV(image = [str(n) + \". \" for n in range(len(art_meta))] + art_meta[\"Title\"]):\n",
    "    num = int(image.split('.')[0])\n",
    "    image = cv2.imread(\"../\" + foldername + \"/\" + str(art_meta[\"Accession_number\"][num]) + \".jpg\")\n",
    "    image = cv2.cvtColor(image, cv2.COLOR_BGR2RGB)\n",
    "    plt.figure(figsize=(5, 5))\n",
    "    imshow(image);\n",
    "    hue_sat_3d(num)\n",
    "    plt.show()"
   ]
  },
  {
   "cell_type": "code",
   "execution_count": 92,
   "id": "af377a71",
   "metadata": {},
   "outputs": [],
   "source": [
    "# hsv_csv = pd.DataFrame(columns = ['Hue', 'Saturation', 'Value'])\n",
    "# def hue_sat_value_csv(number):\n",
    "#     img = cv2.imread(\"../\" + foldername + \"/\" + str(art_meta[\"Accession_number\"][number]) + \".jpg\")\n",
    "#     img = cv2.cvtColor(img, cv2.COLOR_BGR2RGB)\n",
    "#     hsv_img = cv2.cvtColor(img, cv2.COLOR_RGB2HSV)\n",
    "#     h, s, v = cv2.split(hsv_img)\n",
    "#     hsv_csv['Hue'] = pd.Series(h.flatten())\n",
    "#     hsv_csv['Saturation'] = pd.Series(s.flatten())\n",
    "#     hsv_csv['Value'] = pd.Series(v.flatten())"
   ]
  },
  {
   "cell_type": "code",
   "execution_count": 93,
   "id": "2c0610b6",
   "metadata": {},
   "outputs": [],
   "source": [
    "# hue_sat_value_csv(155)"
   ]
  },
  {
   "cell_type": "code",
   "execution_count": 94,
   "id": "b47bbddd",
   "metadata": {},
   "outputs": [
    {
     "data": {
      "text/plain": [
       "36.29344820554649"
      ]
     },
     "execution_count": 94,
     "metadata": {},
     "output_type": "execute_result"
    }
   ],
   "source": [
    "# np.mean(hsv_csv[\"Hue\"])"
   ]
  },
  {
   "cell_type": "code",
   "execution_count": 9,
   "id": "656272d7",
   "metadata": {},
   "outputs": [
    {
     "data": {
      "application/vnd.jupyter.widget-view+json": {
       "model_id": "65e642064363446e8b0868285de34cd8",
       "version_major": 2,
       "version_minor": 0
      },
      "text/plain": [
       "interactive(children=(Dropdown(description='image', options=('0. Mrs Reid, with Betsy the Cow, Pilmuir', '1. F…"
      ]
     },
     "metadata": {},
     "output_type": "display_data"
    }
   ],
   "source": [
    "@interact (r = (0, 255, 1), g = (0, 255,1), b = (0, 255,1))\n",
    "def filterRGB_img(image = [str(n) + \". \" for n in range(len(art_meta))] + art_meta[\"Title\"], \n",
    "                    r=0, g=0, b = 0,\n",
    "                 directory = widgets.Text(value='Rename_File_Here.jpg', disabled=False)):\n",
    "    num = int(image.split('.')[0])\n",
    "    img = imread(\"../\" + foldername + \"/\" + str(art_meta[\"Accession_number\"][num]) + \".jpg\")\n",
    "    img_filtered = (img[:,:,0] >= r) & (img[:,:,1] >= g) & (img[:,:,2] >= b)\n",
    "    plt.figure(num=None, figsize=(10, 10))\n",
    "    img_new = img.copy()\n",
    "    img_new[:, :, 0] = img_new[:, :, 0] * img_filtered\n",
    "    img_new[:, :, 1] = img_new[:, :, 1] * img_filtered\n",
    "    img_new[:, :, 2] = img_new[:, :, 2] * img_filtered\n",
    "    plt.imshow(img_new);\n",
    "    plt.show()\n",
    "    \n",
    "    def clicked(arg):\n",
    "        download_img = Image.fromarray(img_new, 'RGB')\n",
    "        if len(directory.split('/')) > 1:\n",
    "            split = directory.split('/')\n",
    "            folders = directory.replace(split[-1], '')\n",
    "            Path(folders).mkdir(parents=True, exist_ok=True)\n",
    "        download_img.save(directory)\n",
    "        print(\"saved\", end='\\r')\n",
    "    \n",
    "    save_button = widgets.Button(description = 'Save image')   \n",
    "    save_button.on_click(clicked)\n",
    "    display(save_button)"
   ]
  },
  {
   "cell_type": "code",
   "execution_count": 9,
   "id": "6cda523c",
   "metadata": {},
   "outputs": [
    {
     "data": {
      "application/vnd.jupyter.widget-view+json": {
       "model_id": "5eaa6d59190d4482a1d296891f07a854",
       "version_major": 2,
       "version_minor": 0
      },
      "text/plain": [
       "interactive(children=(Dropdown(description='image', options=('0. Barra', '1. Old Tom Morris', '2. Roses', '3. …"
      ]
     },
     "metadata": {},
     "output_type": "display_data"
    }
   ],
   "source": [
    "@interact\n",
    "def img_HSV(image = [str(n) + \". \" for n in range(len(art_meta))] + art_meta[\"Title\"],\n",
    "           option = [\"All\", 'Hue','Saturation','Value']):\n",
    "    num = int(image.split('.')[0])\n",
    "    img = cv2.imread(\"../\" + foldername + \"/\" + str(art_meta[\"Accession_number\"][num]) + \".jpg\")\n",
    "    img_hsv = cv2.cvtColor(img, cv2.COLOR_BGR2HSV)\n",
    "    if option == \"All\":\n",
    "        hsv_list = ['Hue','Saturation','Value']\n",
    "        fig, ax = plt.subplots(1, 3, figsize=(15,7), sharey = True)\n",
    "\n",
    "        ax[0].imshow(img_hsv[:,:,0], cmap = 'hsv')\n",
    "        ax[0].set_title(hsv_list[0], fontsize = 20)\n",
    "        ax[0].axis('off')\n",
    "\n",
    "        ax[1].imshow(img_hsv[:,:,1], cmap = 'Greys')\n",
    "        ax[1].set_title(hsv_list[1], fontsize = 20)\n",
    "        ax[1].axis('off')\n",
    "\n",
    "        ax[2].imshow(img_hsv[:,:,2], cmap = 'gray')\n",
    "        ax[2].set_title(hsv_list[2], fontsize = 20)\n",
    "        ax[2].axis('off')\n",
    "        \n",
    "        fig.tight_layout()\n",
    "        \n",
    "    elif option == \"Hue\":\n",
    "        plt.figure(num=None, figsize=(8, 6))\n",
    "        plt.imshow(img_hsv[:,:,0], cmap='hsv')\n",
    "        plt.colorbar()\n",
    "    \n",
    "    elif option == \"Saturation\":\n",
    "        plt.figure(num=None, figsize=(8, 6))\n",
    "        plt.imshow(img_hsv[:,:,1], cmap='Greys')\n",
    "        plt.colorbar()\n",
    "    \n",
    "    elif option == \"Value\":\n",
    "        plt.figure(num=None, figsize=(8, 6))\n",
    "        plt.imshow(img_hsv[:,:,2], cmap='gray')\n",
    "        plt.colorbar()\n",
    "    \n",
    "    plt.show()"
   ]
  },
  {
   "cell_type": "code",
   "execution_count": 101,
   "id": "abe8eb60",
   "metadata": {},
   "outputs": [
    {
     "data": {
      "application/vnd.jupyter.widget-view+json": {
       "model_id": "eb559c6de6d84d88ba5fd05a7b6918e0",
       "version_major": 2,
       "version_minor": 0
      },
      "text/plain": [
       "interactive(children=(Dropdown(description='image', options=('0. Barra', '1. Old Tom Morris', '2. Roses', '3. …"
      ]
     },
     "metadata": {},
     "output_type": "display_data"
    }
   ],
   "source": [
    "@interact (Saturation = (0, 255, 1))\n",
    "def img_HSV_filter(image = [str(n) + \". \" for n in range(len(art_meta))] + art_meta[\"Title\"],\n",
    "                    h = widgets.IntRangeSlider(description='Hue', value=[0, 255],\n",
    "                                               min = 0, max = 255, step=1),\n",
    "                    Saturation = 0,\n",
    "                  directory = widgets.Text(value='Rename_File_Here.jpg', disabled=False)):\n",
    "    \n",
    "    num = int(image.split('.')[0])\n",
    "    img = cv2.imread(\"../\" + foldername + \"/\" + str(art_meta[\"Accession_number\"][num]) + \".jpg\")\n",
    "    image = cv2.cvtColor(img, cv2.COLOR_BGR2RGB)\n",
    "    img_hsv = cv2.cvtColor(img, cv2.COLOR_BGR2HSV)\n",
    "    \n",
    "    lower_mask = img_hsv[:,:,0] >= int(h[0])\n",
    "    upper_mask = img_hsv[:,:,0] <= int(h[1])\n",
    "    saturation = img_hsv[:,:,1] >= Saturation\n",
    "    mask = upper_mask * lower_mask * saturation\n",
    "    red = image[:,:,0] * mask\n",
    "    green = image[:,:,1] * mask\n",
    "    blue = image[:,:,2] * mask\n",
    "    image_masked = np.dstack((red,green,blue))\n",
    "    plt.figure(num=None, figsize=(15, 15))\n",
    "    plt.imshow(image_masked);\n",
    "    \n",
    "    plt.show()\n",
    "    \n",
    "    def clicked(arg):\n",
    "        download_img = Image.fromarray(image_masked, 'RGB')\n",
    "        if len(directory.split('/')) > 1:\n",
    "            split = directory.split('/')\n",
    "            folders = directory.replace(split[-1], '')\n",
    "            Path(folders).mkdir(parents=True, exist_ok=True)\n",
    "        download_img.save(directory)\n",
    "        print(\"saved\", end='\\r')\n",
    "    \n",
    "    save_button = widgets.Button(description = 'Save image')   \n",
    "    save_button.on_click(clicked)\n",
    "    display(save_button)"
   ]
  },
  {
   "cell_type": "markdown",
   "id": "17d8a3fe",
   "metadata": {},
   "source": [
    "# ML Image Segmentation using K-Means"
   ]
  },
  {
   "cell_type": "code",
   "execution_count": 23,
   "id": "1f125e99",
   "metadata": {},
   "outputs": [],
   "source": [
    "def image_to_df(img):\n",
    "    df = pd.DataFrame([img[:,:,0].flatten(), img[:,:,1].flatten(), img[:,:,2].flatten()]).T\n",
    "    df.columns = ['R','G','B']\n",
    "    return df"
   ]
  },
  {
   "cell_type": "code",
   "execution_count": 120,
   "id": "49b81de9",
   "metadata": {},
   "outputs": [
    {
     "data": {
      "application/vnd.jupyter.widget-view+json": {
       "model_id": "bc6b7cb4711c4f5091369b9d1bdcd4a6",
       "version_major": 2,
       "version_minor": 0
      },
      "text/plain": [
       "interactive(children=(Dropdown(description='image', options=('0. Barra', '1. Old Tom Morris', '2. Roses', '3. …"
      ]
     },
     "metadata": {},
     "output_type": "display_data"
    }
   ],
   "source": [
    "@interact_manual (k = (2, 50, 1))\n",
    "def img_HSV_filter(image = [str(n) + \". \" for n in range(len(art_meta))] + art_meta[\"Title\"],\n",
    "                   k = 2, \n",
    "                   directory = widgets.Text(value='Rename_Folder_Here/Rename_File_Here.jpg', \n",
    "                                            disabled=False,\n",
    "                                           layout=widgets.Layout(height=\"auto\", width=\"auto\"))):\n",
    "    num = int(image.split('.')[0])\n",
    "    img = imread(\"../\" + foldername + \"/\" + str(art_meta[\"Accession_number\"][num]) + \".jpg\")\n",
    "    temp_df = image_to_df(img)\n",
    "    \n",
    "    plt.figure(num=None, figsize=(10, 10), dpi=80)\n",
    "    kmeans = KMeans(n_clusters = k, random_state = 42).fit(temp_df)\n",
    "    result = kmeans.labels_.reshape(img.shape[0],img.shape[1])\n",
    "    \n",
    "    fig, axes = plt.subplots(int(math.ceil(k/2)), 2, figsize=(15, 12*int(math.ceil(k/2))))\n",
    "    temp_save_as = []\n",
    "    for n, ax in enumerate(axes.flatten()):\n",
    "        temp_img = img.copy()\n",
    "        temp_img[:, :, 0] = temp_img[:, :, 0]*(result==[n])\n",
    "        temp_img[:, :, 1] = temp_img[:, :, 1]*(result==[n])\n",
    "        temp_img[:, :, 2] = temp_img[:, :, 2]*(result==[n])\n",
    "        temp_save_as.append(temp_img)\n",
    "        ax.imshow(temp_img);\n",
    "        ax.set_axis_off()\n",
    "    plt.show()\n",
    "    \n",
    "    def clicked(arg):\n",
    "        if len(directory.split('/')) > 1:\n",
    "            split = directory.split('/')\n",
    "            folders = directory.replace(split[-1], '')\n",
    "            Path(folders).mkdir(parents=True, exist_ok=True)\n",
    "        \n",
    "        for n in range(len(temp_save_as)):\n",
    "            download_img = Image.fromarray(temp_save_as[n], 'RGB')\n",
    "            download_img.save(directory.split('.')[0] + \"_\" + str(n) + \".jpg\")\n",
    "            \n",
    "        print(\"saved\", end='\\r')\n",
    "    \n",
    "    save_button = widgets.Button(description = 'Save images')   \n",
    "    save_button.on_click(clicked)\n",
    "    display(save_button)"
   ]
  },
  {
   "cell_type": "code",
   "execution_count": null,
   "id": "4a78fe5a",
   "metadata": {},
   "outputs": [],
   "source": []
  }
 ],
 "metadata": {
  "kernelspec": {
   "display_name": "Python 3 (ipykernel)",
   "language": "python",
   "name": "python3"
  },
  "language_info": {
   "codemirror_mode": {
    "name": "ipython",
    "version": 3
   },
   "file_extension": ".py",
   "mimetype": "text/x-python",
   "name": "python",
   "nbconvert_exporter": "python",
   "pygments_lexer": "ipython3",
   "version": "3.9.6"
  }
 },
 "nbformat": 4,
 "nbformat_minor": 5
}
