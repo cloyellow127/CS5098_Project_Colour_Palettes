{
 "cells": [
  {
   "cell_type": "code",
   "execution_count": 1,
   "id": "tamil-charity",
   "metadata": {},
   "outputs": [],
   "source": [
    "import requests\n",
    "import numpy as np\n",
    "from PIL import Image\n",
    "import pandas as pd\n",
    "%matplotlib inline\n",
    "from pandas.io.json import json_normalize\n",
    "import matplotlib.pyplot as plt\n",
    "import matplotlib.image as mpimg\n",
    "import matplotlib.patches as patches\n",
    "import json\n",
    "from sklearn.model_selection import GridSearchCV"
   ]
  },
  {
   "cell_type": "code",
   "execution_count": 2,
   "id": "supposed-appliance",
   "metadata": {},
   "outputs": [],
   "source": [
    "# response = requests.get('https://public.opendatasoft.com/api/records/1.0/search/?dataset=the-tate-collection&q=&facet=artist&facet=medium&facet=year&facet=acquisitionyear&facet=dimensions')\n",
    "# print(response.status_code)\n",
    "# print(response.json())\n",
    "# df = pd.json_normalize(response.json())"
   ]
  },
  {
   "cell_type": "code",
   "execution_count": 3,
   "id": "challenging-bolivia",
   "metadata": {},
   "outputs": [],
   "source": [
    "# im = Image.open(requests.get(\"https://upload.wikimedia.org/wikipedia/en/thumb/3/33/Patrick_Star.svg/1200px-Patrick_Star.svg.png\", stream=True).raw)\n",
    "# im"
   ]
  },
  {
   "cell_type": "code",
   "execution_count": 36,
   "id": "c9a3456c",
   "metadata": {},
   "outputs": [
    {
     "data": {
      "text/html": [
       "<div>\n",
       "<style scoped>\n",
       "    .dataframe tbody tr th:only-of-type {\n",
       "        vertical-align: middle;\n",
       "    }\n",
       "\n",
       "    .dataframe tbody tr th {\n",
       "        vertical-align: top;\n",
       "    }\n",
       "\n",
       "    .dataframe thead th {\n",
       "        text-align: right;\n",
       "    }\n",
       "</style>\n",
       "<table border=\"1\" class=\"dataframe\">\n",
       "  <thead>\n",
       "    <tr style=\"text-align: right;\">\n",
       "      <th></th>\n",
       "      <th>id</th>\n",
       "      <th>accession_number</th>\n",
       "      <th>artist</th>\n",
       "      <th>artistRole</th>\n",
       "      <th>artistId</th>\n",
       "      <th>title</th>\n",
       "      <th>dateText</th>\n",
       "      <th>medium</th>\n",
       "      <th>creditLine</th>\n",
       "      <th>year</th>\n",
       "      <th>acquisitionYear</th>\n",
       "      <th>dimensions</th>\n",
       "      <th>width</th>\n",
       "      <th>height</th>\n",
       "      <th>depth</th>\n",
       "      <th>units</th>\n",
       "      <th>inscription</th>\n",
       "      <th>thumbnailCopyright</th>\n",
       "      <th>thumbnailUrl</th>\n",
       "      <th>url</th>\n",
       "    </tr>\n",
       "  </thead>\n",
       "  <tbody>\n",
       "    <tr>\n",
       "      <th>0</th>\n",
       "      <td>20400</td>\n",
       "      <td>P77527</td>\n",
       "      <td>Charlton, Alan</td>\n",
       "      <td>artist</td>\n",
       "      <td>891</td>\n",
       "      <td>[no title]</td>\n",
       "      <td>1991</td>\n",
       "      <td>Screenprint on paper</td>\n",
       "      <td>Purchased 1992</td>\n",
       "      <td>1991.0</td>\n",
       "      <td>1992.0</td>\n",
       "      <td>image: 362 x 362 mm</td>\n",
       "      <td>362.0</td>\n",
       "      <td>362.0</td>\n",
       "      <td>NaN</td>\n",
       "      <td>mm</td>\n",
       "      <td>date inscribed</td>\n",
       "      <td>© Alan Charlton</td>\n",
       "      <td>https://data.opendatasoft.com/api/datasets/1.0...</td>\n",
       "      <td>http://www.tate.org.uk/art/artworks/charlton-n...</td>\n",
       "    </tr>\n",
       "    <tr>\n",
       "      <th>1</th>\n",
       "      <td>20618</td>\n",
       "      <td>P77580</td>\n",
       "      <td>Artschwager, Richard</td>\n",
       "      <td>artist</td>\n",
       "      <td>669</td>\n",
       "      <td>Interior</td>\n",
       "      <td>1972</td>\n",
       "      <td>Screenprint on paper</td>\n",
       "      <td>Purchased 1992</td>\n",
       "      <td>1972.0</td>\n",
       "      <td>1992.0</td>\n",
       "      <td>image: 715 x 1043 mm</td>\n",
       "      <td>715.0</td>\n",
       "      <td>1043.0</td>\n",
       "      <td>NaN</td>\n",
       "      <td>mm</td>\n",
       "      <td>date inscribed</td>\n",
       "      <td>© ARS, NY and DACS, London 2014</td>\n",
       "      <td>https://data.opendatasoft.com/api/datasets/1.0...</td>\n",
       "      <td>http://www.tate.org.uk/art/artworks/artschwage...</td>\n",
       "    </tr>\n",
       "    <tr>\n",
       "      <th>2</th>\n",
       "      <td>20830</td>\n",
       "      <td>P77612</td>\n",
       "      <td>Marden, Brice</td>\n",
       "      <td>artist</td>\n",
       "      <td>1578</td>\n",
       "      <td>[no title]</td>\n",
       "      <td>1971</td>\n",
       "      <td>Etching and aquatint on paper</td>\n",
       "      <td>Purchased 1993</td>\n",
       "      <td>1971.0</td>\n",
       "      <td>1993.0</td>\n",
       "      <td>image: 370 x 603 mm</td>\n",
       "      <td>370.0</td>\n",
       "      <td>603.0</td>\n",
       "      <td>NaN</td>\n",
       "      <td>mm</td>\n",
       "      <td>date inscribed</td>\n",
       "      <td>© ARS, NY and DACS, London 2014</td>\n",
       "      <td>https://data.opendatasoft.com/api/datasets/1.0...</td>\n",
       "      <td>http://www.tate.org.uk/art/artworks/marden-no-...</td>\n",
       "    </tr>\n",
       "    <tr>\n",
       "      <th>3</th>\n",
       "      <td>21086</td>\n",
       "      <td>P77680</td>\n",
       "      <td>Francis, Mark</td>\n",
       "      <td>artist</td>\n",
       "      <td>2311</td>\n",
       "      <td>Untitled</td>\n",
       "      <td>1994</td>\n",
       "      <td>Monotype on paper</td>\n",
       "      <td>Purchased 1994</td>\n",
       "      <td>1994.0</td>\n",
       "      <td>1994.0</td>\n",
       "      <td>image: 582 x 584 mm</td>\n",
       "      <td>582.0</td>\n",
       "      <td>584.0</td>\n",
       "      <td>NaN</td>\n",
       "      <td>mm</td>\n",
       "      <td>NaN</td>\n",
       "      <td>© Mark Francis</td>\n",
       "      <td>https://data.opendatasoft.com/api/datasets/1.0...</td>\n",
       "      <td>http://www.tate.org.uk/art/artworks/francis-un...</td>\n",
       "    </tr>\n",
       "    <tr>\n",
       "      <th>4</th>\n",
       "      <td>21163</td>\n",
       "      <td>P77699</td>\n",
       "      <td>Self, Colin</td>\n",
       "      <td>artist</td>\n",
       "      <td>1922</td>\n",
       "      <td>Power and Beauty No. 4</td>\n",
       "      <td>1968</td>\n",
       "      <td>Screenprint on paper</td>\n",
       "      <td>Purchased 1994</td>\n",
       "      <td>1968.0</td>\n",
       "      <td>1994.0</td>\n",
       "      <td>image: 1044 x 681 mm</td>\n",
       "      <td>1044.0</td>\n",
       "      <td>681.0</td>\n",
       "      <td>NaN</td>\n",
       "      <td>mm</td>\n",
       "      <td>NaN</td>\n",
       "      <td>© Colin Self. All Rights Reserved, DACS 2014</td>\n",
       "      <td>https://data.opendatasoft.com/api/datasets/1.0...</td>\n",
       "      <td>http://www.tate.org.uk/art/artworks/self-power...</td>\n",
       "    </tr>\n",
       "    <tr>\n",
       "      <th>...</th>\n",
       "      <td>...</td>\n",
       "      <td>...</td>\n",
       "      <td>...</td>\n",
       "      <td>...</td>\n",
       "      <td>...</td>\n",
       "      <td>...</td>\n",
       "      <td>...</td>\n",
       "      <td>...</td>\n",
       "      <td>...</td>\n",
       "      <td>...</td>\n",
       "      <td>...</td>\n",
       "      <td>...</td>\n",
       "      <td>...</td>\n",
       "      <td>...</td>\n",
       "      <td>...</td>\n",
       "      <td>...</td>\n",
       "      <td>...</td>\n",
       "      <td>...</td>\n",
       "      <td>...</td>\n",
       "      <td>...</td>\n",
       "    </tr>\n",
       "    <tr>\n",
       "      <th>69196</th>\n",
       "      <td>23515</td>\n",
       "      <td>T11010</td>\n",
       "      <td>Seabrooke, Elliott</td>\n",
       "      <td>artist</td>\n",
       "      <td>1918</td>\n",
       "      <td>Landscape with Castle under a Stormy Sky</td>\n",
       "      <td>date not known</td>\n",
       "      <td>Graphite, ink and watercolour on paper</td>\n",
       "      <td>Purchased as part of the Oppé Collection with ...</td>\n",
       "      <td>NaN</td>\n",
       "      <td>1997.0</td>\n",
       "      <td>support: 86 x 118 mm</td>\n",
       "      <td>86.0</td>\n",
       "      <td>118.0</td>\n",
       "      <td>NaN</td>\n",
       "      <td>mm</td>\n",
       "      <td>NaN</td>\n",
       "      <td>NaN</td>\n",
       "      <td>NaN</td>\n",
       "      <td>http://www.tate.org.uk/art/artworks/seabrooke-...</td>\n",
       "    </tr>\n",
       "    <tr>\n",
       "      <th>69197</th>\n",
       "      <td>25332</td>\n",
       "      <td>T11028</td>\n",
       "      <td>Gainsborough, Thomas</td>\n",
       "      <td>after</td>\n",
       "      <td>199</td>\n",
       "      <td>[title not known]</td>\n",
       "      <td>1819</td>\n",
       "      <td>Etching on paper</td>\n",
       "      <td>Purchased as part of the Oppé Collection with ...</td>\n",
       "      <td>1819.0</td>\n",
       "      <td>1997.0</td>\n",
       "      <td>image: 187 x 257 mm</td>\n",
       "      <td>187.0</td>\n",
       "      <td>257.0</td>\n",
       "      <td>NaN</td>\n",
       "      <td>mm</td>\n",
       "      <td>NaN</td>\n",
       "      <td>NaN</td>\n",
       "      <td>https://data.opendatasoft.com/api/datasets/1.0...</td>\n",
       "      <td>http://www.tate.org.uk/art/artworks/gainsborou...</td>\n",
       "    </tr>\n",
       "    <tr>\n",
       "      <th>69198</th>\n",
       "      <td>25349</td>\n",
       "      <td>T11045</td>\n",
       "      <td>Gainsborough, Thomas</td>\n",
       "      <td>after</td>\n",
       "      <td>199</td>\n",
       "      <td>[title not known]</td>\n",
       "      <td>1819</td>\n",
       "      <td>Etching and watercolour on paper</td>\n",
       "      <td>Purchased as part of the Oppé Collection with ...</td>\n",
       "      <td>1819.0</td>\n",
       "      <td>1997.0</td>\n",
       "      <td>image: 186 x 257 mm</td>\n",
       "      <td>186.0</td>\n",
       "      <td>257.0</td>\n",
       "      <td>NaN</td>\n",
       "      <td>mm</td>\n",
       "      <td>NaN</td>\n",
       "      <td>NaN</td>\n",
       "      <td>https://data.opendatasoft.com/api/datasets/1.0...</td>\n",
       "      <td>http://www.tate.org.uk/art/artworks/gainsborou...</td>\n",
       "    </tr>\n",
       "    <tr>\n",
       "      <th>69199</th>\n",
       "      <td>25445</td>\n",
       "      <td>T11089</td>\n",
       "      <td>Flaxman, John</td>\n",
       "      <td>after</td>\n",
       "      <td>186</td>\n",
       "      <td>The Statue of Four Metals</td>\n",
       "      <td>1807</td>\n",
       "      <td>Etching on paper</td>\n",
       "      <td>Purchased as part of the Oppé Collection with ...</td>\n",
       "      <td>1807.0</td>\n",
       "      <td>1997.0</td>\n",
       "      <td>image: 132 x 191 mm</td>\n",
       "      <td>132.0</td>\n",
       "      <td>191.0</td>\n",
       "      <td>NaN</td>\n",
       "      <td>mm</td>\n",
       "      <td>NaN</td>\n",
       "      <td>NaN</td>\n",
       "      <td>https://data.opendatasoft.com/api/datasets/1.0...</td>\n",
       "      <td>http://www.tate.org.uk/art/artworks/flaxman-th...</td>\n",
       "    </tr>\n",
       "    <tr>\n",
       "      <th>69200</th>\n",
       "      <td>25465</td>\n",
       "      <td>T11109</td>\n",
       "      <td>Flaxman, John</td>\n",
       "      <td>after</td>\n",
       "      <td>186</td>\n",
       "      <td>Count Ugolino Seized</td>\n",
       "      <td>1807</td>\n",
       "      <td>Etching on paper</td>\n",
       "      <td>Purchased as part of the Oppé Collection with ...</td>\n",
       "      <td>1807.0</td>\n",
       "      <td>1997.0</td>\n",
       "      <td>image: 134 x 199 mm</td>\n",
       "      <td>134.0</td>\n",
       "      <td>199.0</td>\n",
       "      <td>NaN</td>\n",
       "      <td>mm</td>\n",
       "      <td>NaN</td>\n",
       "      <td>NaN</td>\n",
       "      <td>https://data.opendatasoft.com/api/datasets/1.0...</td>\n",
       "      <td>http://www.tate.org.uk/art/artworks/flaxman-co...</td>\n",
       "    </tr>\n",
       "  </tbody>\n",
       "</table>\n",
       "<p>69201 rows × 20 columns</p>\n",
       "</div>"
      ],
      "text/plain": [
       "          id accession_number                artist artistRole  artistId  \\\n",
       "0      20400           P77527        Charlton, Alan     artist       891   \n",
       "1      20618           P77580  Artschwager, Richard     artist       669   \n",
       "2      20830           P77612         Marden, Brice     artist      1578   \n",
       "3      21086           P77680         Francis, Mark     artist      2311   \n",
       "4      21163           P77699           Self, Colin     artist      1922   \n",
       "...      ...              ...                   ...        ...       ...   \n",
       "69196  23515           T11010    Seabrooke, Elliott     artist      1918   \n",
       "69197  25332           T11028  Gainsborough, Thomas      after       199   \n",
       "69198  25349           T11045  Gainsborough, Thomas      after       199   \n",
       "69199  25445           T11089         Flaxman, John      after       186   \n",
       "69200  25465           T11109         Flaxman, John      after       186   \n",
       "\n",
       "                                          title        dateText  \\\n",
       "0                                    [no title]            1991   \n",
       "1                                      Interior            1972   \n",
       "2                                    [no title]            1971   \n",
       "3                                      Untitled            1994   \n",
       "4                        Power and Beauty No. 4            1968   \n",
       "...                                         ...             ...   \n",
       "69196  Landscape with Castle under a Stormy Sky  date not known   \n",
       "69197                         [title not known]            1819   \n",
       "69198                         [title not known]            1819   \n",
       "69199                 The Statue of Four Metals            1807   \n",
       "69200                      Count Ugolino Seized            1807   \n",
       "\n",
       "                                       medium  \\\n",
       "0                        Screenprint on paper   \n",
       "1                        Screenprint on paper   \n",
       "2               Etching and aquatint on paper   \n",
       "3                           Monotype on paper   \n",
       "4                        Screenprint on paper   \n",
       "...                                       ...   \n",
       "69196  Graphite, ink and watercolour on paper   \n",
       "69197                        Etching on paper   \n",
       "69198        Etching and watercolour on paper   \n",
       "69199                        Etching on paper   \n",
       "69200                        Etching on paper   \n",
       "\n",
       "                                              creditLine    year  \\\n",
       "0                                         Purchased 1992  1991.0   \n",
       "1                                         Purchased 1992  1972.0   \n",
       "2                                         Purchased 1993  1971.0   \n",
       "3                                         Purchased 1994  1994.0   \n",
       "4                                         Purchased 1994  1968.0   \n",
       "...                                                  ...     ...   \n",
       "69196  Purchased as part of the Oppé Collection with ...     NaN   \n",
       "69197  Purchased as part of the Oppé Collection with ...  1819.0   \n",
       "69198  Purchased as part of the Oppé Collection with ...  1819.0   \n",
       "69199  Purchased as part of the Oppé Collection with ...  1807.0   \n",
       "69200  Purchased as part of the Oppé Collection with ...  1807.0   \n",
       "\n",
       "       acquisitionYear            dimensions   width  height  depth units  \\\n",
       "0               1992.0   image: 362 x 362 mm   362.0   362.0    NaN    mm   \n",
       "1               1992.0  image: 715 x 1043 mm   715.0  1043.0    NaN    mm   \n",
       "2               1993.0   image: 370 x 603 mm   370.0   603.0    NaN    mm   \n",
       "3               1994.0   image: 582 x 584 mm   582.0   584.0    NaN    mm   \n",
       "4               1994.0  image: 1044 x 681 mm  1044.0   681.0    NaN    mm   \n",
       "...                ...                   ...     ...     ...    ...   ...   \n",
       "69196           1997.0  support: 86 x 118 mm    86.0   118.0    NaN    mm   \n",
       "69197           1997.0   image: 187 x 257 mm   187.0   257.0    NaN    mm   \n",
       "69198           1997.0   image: 186 x 257 mm   186.0   257.0    NaN    mm   \n",
       "69199           1997.0   image: 132 x 191 mm   132.0   191.0    NaN    mm   \n",
       "69200           1997.0   image: 134 x 199 mm   134.0   199.0    NaN    mm   \n",
       "\n",
       "          inscription                            thumbnailCopyright  \\\n",
       "0      date inscribed                               © Alan Charlton   \n",
       "1      date inscribed               © ARS, NY and DACS, London 2014   \n",
       "2      date inscribed               © ARS, NY and DACS, London 2014   \n",
       "3                 NaN                                © Mark Francis   \n",
       "4                 NaN  © Colin Self. All Rights Reserved, DACS 2014   \n",
       "...               ...                                           ...   \n",
       "69196             NaN                                           NaN   \n",
       "69197             NaN                                           NaN   \n",
       "69198             NaN                                           NaN   \n",
       "69199             NaN                                           NaN   \n",
       "69200             NaN                                           NaN   \n",
       "\n",
       "                                            thumbnailUrl  \\\n",
       "0      https://data.opendatasoft.com/api/datasets/1.0...   \n",
       "1      https://data.opendatasoft.com/api/datasets/1.0...   \n",
       "2      https://data.opendatasoft.com/api/datasets/1.0...   \n",
       "3      https://data.opendatasoft.com/api/datasets/1.0...   \n",
       "4      https://data.opendatasoft.com/api/datasets/1.0...   \n",
       "...                                                  ...   \n",
       "69196                                                NaN   \n",
       "69197  https://data.opendatasoft.com/api/datasets/1.0...   \n",
       "69198  https://data.opendatasoft.com/api/datasets/1.0...   \n",
       "69199  https://data.opendatasoft.com/api/datasets/1.0...   \n",
       "69200  https://data.opendatasoft.com/api/datasets/1.0...   \n",
       "\n",
       "                                                     url  \n",
       "0      http://www.tate.org.uk/art/artworks/charlton-n...  \n",
       "1      http://www.tate.org.uk/art/artworks/artschwage...  \n",
       "2      http://www.tate.org.uk/art/artworks/marden-no-...  \n",
       "3      http://www.tate.org.uk/art/artworks/francis-un...  \n",
       "4      http://www.tate.org.uk/art/artworks/self-power...  \n",
       "...                                                  ...  \n",
       "69196  http://www.tate.org.uk/art/artworks/seabrooke-...  \n",
       "69197  http://www.tate.org.uk/art/artworks/gainsborou...  \n",
       "69198  http://www.tate.org.uk/art/artworks/gainsborou...  \n",
       "69199  http://www.tate.org.uk/art/artworks/flaxman-th...  \n",
       "69200  http://www.tate.org.uk/art/artworks/flaxman-co...  \n",
       "\n",
       "[69201 rows x 20 columns]"
      ]
     },
     "execution_count": 36,
     "metadata": {},
     "output_type": "execute_result"
    }
   ],
   "source": [
    "# Local file\n",
    "df = pd.read_csv('the-tate-collection.csv',sep = \";\")\n",
    "df"
   ]
  },
  {
   "cell_type": "code",
   "execution_count": 7,
   "id": "amber-herald",
   "metadata": {},
   "outputs": [
    {
     "data": {
      "text/plain": [
       "5397"
      ]
     },
     "execution_count": 7,
     "metadata": {},
     "output_type": "execute_result"
    }
   ],
   "source": [
    "# dffields['year'].value_counts()\n",
    "df['year'].isna().sum()"
   ]
  },
  {
   "cell_type": "code",
   "execution_count": 8,
   "id": "pointed-bernard",
   "metadata": {},
   "outputs": [
    {
     "data": {
      "text/plain": [
       "45"
      ]
     },
     "execution_count": 8,
     "metadata": {},
     "output_type": "execute_result"
    }
   ],
   "source": [
    "df['acquisitionYear'].isna().sum()"
   ]
  },
  {
   "cell_type": "code",
   "execution_count": 9,
   "id": "tight-instrumentation",
   "metadata": {},
   "outputs": [],
   "source": [
    "# dropping NAs\n",
    "# train = dffields.dropna(how='any',axis=0)\n",
    "# train = dffields\n",
    "# train.dropna(subset = ['year', 'acquisitionyear'], inplace = True)\n",
    "# train.drop(train['acquisitionyear'].isna().index, inplace = True)\n",
    "# train.drop(train['year'].isna().index, inplace = True)"
   ]
  },
  {
   "cell_type": "code",
   "execution_count": 10,
   "id": "encouraging-stretch",
   "metadata": {},
   "outputs": [],
   "source": [
    "df['year'] = pd.to_numeric(df['year'])\n",
    "df['acquisitionYear'] = pd.to_numeric(df['acquisitionYear'])"
   ]
  },
  {
   "cell_type": "code",
   "execution_count": 11,
   "id": "thirty-alert",
   "metadata": {},
   "outputs": [
    {
     "data": {
      "text/plain": [
       "Text(0.5, 0, 'Year')"
      ]
     },
     "execution_count": 11,
     "metadata": {},
     "output_type": "execute_result"
    },
    {
     "data": {
      "image/png": "[encoded data removed]",
      "text/plain": [
       "<Figure size 432x288 with 1 Axes>"
      ]
     },
     "metadata": {
      "needs_background": "light"
     },
     "output_type": "display_data"
    }
   ],
   "source": [
    "ax = df[['year', 'acquisitionYear']].plot.kde()\n",
    "ax.set_xlabel(\"Year\")"
   ]
  },
  {
   "cell_type": "markdown",
   "id": "funded-halloween",
   "metadata": {},
   "source": [
    "#### Year of Artwork Creation versus Year Acquired by Tate Gallery"
   ]
  },
  {
   "cell_type": "code",
   "execution_count": 12,
   "id": "simplified-riverside",
   "metadata": {},
   "outputs": [
    {
     "data": {
      "image/png": "[encoded data removed]",
      "text/plain": [
       "<Figure size 432x288 with 1 Axes>"
      ]
     },
     "metadata": {
      "needs_background": "light"
     },
     "output_type": "display_data"
    }
   ],
   "source": [
    "def round_sf(number, significant):\n",
    "    return round(number, significant - len(str(number)))\n",
    "\n",
    "min_ayear = int(df['acquisitionYear'].min());\n",
    "max_ayear = int(df['acquisitionYear'].max());\n",
    "diff = round_sf(max_ayear, 2) - round_sf(min_ayear, 2)\n",
    "\n",
    "temp_data = []\n",
    "temp_label = []\n",
    "\n",
    "temp_data.append(df['year'][df['acquisitionYear'].isna()])\n",
    "temp_label.append(\"NA\")\n",
    "for x in range(0, diff + 50, 50):\n",
    "    temp_data.append(df['year'][(df['acquisitionYear'] >= round_sf(max_ayear, 2) - x) \n",
    "                      & (df['acquisitionYear'] < round_sf(max_ayear, 2) - x + 50)])\n",
    "    if x != 0:\n",
    "        temp_label.append(str(round_sf(max_ayear, 2) - x) + ' - ' + \n",
    "                             str(round_sf(max_ayear, 2) - x + 50 - 1))\n",
    "    else:\n",
    "        temp_label.append(str(round_sf(max_ayear, 2) - x) + ' - ' + \n",
    "                             str(round_sf(max_ayear, 2) - x + 50))\n",
    "    \n",
    "\n",
    "plt.hist(temp_data, bins=50, stacked=True)\n",
    "plt.legend(temp_label, title = \"Year Artwork Acquired\")\n",
    "plt.xlabel(\"Year\")  \n",
    "plt.ylabel(\"Count of Artworks\")\n",
    "plt.show()"
   ]
  },
  {
   "cell_type": "markdown",
   "id": "equal-google",
   "metadata": {},
   "source": [
    "#### Pre-Tate Gallery Artwork Acqusition"
   ]
  },
  {
   "cell_type": "code",
   "execution_count": 13,
   "id": "found-treasure",
   "metadata": {},
   "outputs": [
    {
     "data": {
      "image/png": "[encoded data removed]",
      "text/plain": [
       "<Figure size 432x288 with 1 Axes>"
      ]
     },
     "metadata": {
      "needs_background": "light"
     },
     "output_type": "display_data"
    }
   ],
   "source": [
    "df['year'][df['year'] <= 1897].hist(\n",
    "        bins=30);\n",
    "plt.xlabel(\"Year\")  \n",
    "plt.ylabel(\"Count\")\n",
    "plt.show()"
   ]
  },
  {
   "cell_type": "code",
   "execution_count": 14,
   "id": "abstract-kelly",
   "metadata": {},
   "outputs": [
    {
     "data": {
      "text/plain": [
       "Turner, Joseph Mallord William    39046\n",
       "Daniell, William                    612\n",
       "Constable, John                     188\n",
       "Blake, William                      175\n",
       "Flaxman, John                       151\n",
       "                                  ...  \n",
       "Allom, Thomas                         1\n",
       "Frye, Thomas                          1\n",
       "Greville, Lady Louisa                 1\n",
       "Walton, Edward Arthur                 1\n",
       "Strutt, Arthur John                   1\n",
       "Name: artist, Length: 748, dtype: int64"
      ]
     },
     "execution_count": 14,
     "metadata": {},
     "output_type": "execute_result"
    }
   ],
   "source": [
    "df['artist'][df['year'] <= 1897].value_counts(ascending=False)"
   ]
  },
  {
   "cell_type": "code",
   "execution_count": 15,
   "id": "swedish-commander",
   "metadata": {},
   "outputs": [
    {
     "data": {
      "text/plain": [
       "0.8892077156065679"
      ]
     },
     "execution_count": 15,
     "metadata": {},
     "output_type": "execute_result"
    }
   ],
   "source": [
    "df['artist'][df['year'] <= 1897].value_counts(ascending=False)[0] / df['artist'][df['year'] <= 1897].count()"
   ]
  },
  {
   "cell_type": "code",
   "execution_count": 16,
   "id": "ancient-collection",
   "metadata": {},
   "outputs": [
    {
     "data": {
      "image/png": "[encoded data removed]",
      "text/plain": [
       "<Figure size 432x288 with 1 Axes>"
      ]
     },
     "metadata": {
      "needs_background": "light"
     },
     "output_type": "display_data"
    }
   ],
   "source": [
    "plt.hist([df['year'][(df['year'] <= 1897) & (df['artist'] == \"Turner, Joseph Mallord William\")],\n",
    "         df['year'][(df['year'] <= 1897) & (df['artist'] != \"Turner, Joseph Mallord William\")]],\n",
    "          bins=30, stacked=True)\n",
    "plt.legend(['True', 'False'], title = \"Artwork by JMW Turner?\")\n",
    "plt.xlabel(\"Year\")  \n",
    "plt.ylabel(\"Count\")\n",
    "plt.show()"
   ]
  },
  {
   "cell_type": "code",
   "execution_count": 17,
   "id": "cubic-settlement",
   "metadata": {},
   "outputs": [
    {
     "data": {
      "image/png": "[encoded data removed]",
      "text/plain": [
       "<Figure size 432x288 with 1 Axes>"
      ]
     },
     "metadata": {
      "needs_background": "light"
     },
     "output_type": "display_data"
    }
   ],
   "source": [
    "temp_data = []\n",
    "temp_label = []\n",
    "\n",
    "temp_data.append(df['year'][(df['acquisitionYear'].isna())\n",
    "                            & (df['artist'] == \"Turner, Joseph Mallord William\")])\n",
    "temp_label.append(\"NA\")\n",
    "for x in range(0, diff + 50, 50):\n",
    "    temp_data.append(df['year'][((df['acquisitionYear'] >= round_sf(max_ayear, 2) - x) \n",
    "                      & (df['acquisitionYear'] < round_sf(max_ayear, 2) - x + 50))\n",
    "                        & (df['artist'] == \"Turner, Joseph Mallord William\")])\n",
    "    if x != 0:\n",
    "        temp_label.append(str(round_sf(max_ayear, 2) - x) + ' - ' + \n",
    "                             str(round_sf(max_ayear, 2) - x + 50 - 1))\n",
    "    else:\n",
    "        temp_label.append(str(round_sf(max_ayear, 2) - x) + ' - ' + \n",
    "                             str(round_sf(max_ayear, 2) - x + 50))\n",
    "    \n",
    "\n",
    "plt.hist(temp_data, bins=30, stacked=True)\n",
    "plt.legend(temp_label, title = \"Year Artwork Acquired\")\n",
    "plt.xlabel(\"Year\")  \n",
    "plt.ylabel(\"Count of Artworks\")\n",
    "plt.show()"
   ]
  },
  {
   "cell_type": "markdown",
   "id": "dense-mount",
   "metadata": {},
   "source": [
    "#### Aspect Ratio through Time"
   ]
  },
  {
   "cell_type": "code",
   "execution_count": 18,
   "id": "olive-procurement",
   "metadata": {},
   "outputs": [
    {
     "data": {
      "image/png": "[encoded data removed]",
      "text/plain": [
       "<Figure size 432x288 with 1 Axes>"
      ]
     },
     "metadata": {
      "needs_background": "light"
     },
     "output_type": "display_data"
    }
   ],
   "source": [
    "x = df['year']\n",
    "y = df['height'] / df['width']\n",
    "plt.xlabel(\"Year\")  \n",
    "plt.ylabel(\"Aspect Ratio\")\n",
    "plt.scatter(x, y);"
   ]
  },
  {
   "cell_type": "code",
   "execution_count": 19,
   "id": "modified-approval",
   "metadata": {},
   "outputs": [
    {
     "data": {
      "text/html": [
       "<div>\n",
       "<style scoped>\n",
       "    .dataframe tbody tr th:only-of-type {\n",
       "        vertical-align: middle;\n",
       "    }\n",
       "\n",
       "    .dataframe tbody tr th {\n",
       "        vertical-align: top;\n",
       "    }\n",
       "\n",
       "    .dataframe thead th {\n",
       "        text-align: right;\n",
       "    }\n",
       "</style>\n",
       "<table border=\"1\" class=\"dataframe\">\n",
       "  <thead>\n",
       "    <tr style=\"text-align: right;\">\n",
       "      <th></th>\n",
       "      <th>id</th>\n",
       "      <th>accession_number</th>\n",
       "      <th>artist</th>\n",
       "      <th>artistRole</th>\n",
       "      <th>artistId</th>\n",
       "      <th>title</th>\n",
       "      <th>dateText</th>\n",
       "      <th>medium</th>\n",
       "      <th>creditLine</th>\n",
       "      <th>year</th>\n",
       "      <th>acquisitionYear</th>\n",
       "      <th>dimensions</th>\n",
       "      <th>width</th>\n",
       "      <th>height</th>\n",
       "      <th>depth</th>\n",
       "      <th>units</th>\n",
       "      <th>inscription</th>\n",
       "      <th>thumbnailCopyright</th>\n",
       "      <th>thumbnailUrl</th>\n",
       "      <th>url</th>\n",
       "    </tr>\n",
       "  </thead>\n",
       "  <tbody>\n",
       "    <tr>\n",
       "      <th>40102</th>\n",
       "      <td>21561</td>\n",
       "      <td>T07064</td>\n",
       "      <td>Balka, Miroslaw</td>\n",
       "      <td>artist</td>\n",
       "      <td>2360</td>\n",
       "      <td>[diameter]1 x 3750</td>\n",
       "      <td>1995</td>\n",
       "      <td>Steel</td>\n",
       "      <td>Presented by the Patrons of New Art through th...</td>\n",
       "      <td>1995.0</td>\n",
       "      <td>1996.0</td>\n",
       "      <td>unconfirmed: 10 x 37500 x 10 mm</td>\n",
       "      <td>10.0</td>\n",
       "      <td>37500.0</td>\n",
       "      <td>10.0</td>\n",
       "      <td>mm</td>\n",
       "      <td>NaN</td>\n",
       "      <td>© Miroslaw Balka</td>\n",
       "      <td>https://data.opendatasoft.com/api/datasets/1.0...</td>\n",
       "      <td>http://www.tate.org.uk/art/artworks/balka-diam...</td>\n",
       "    </tr>\n",
       "  </tbody>\n",
       "</table>\n",
       "</div>"
      ],
      "text/plain": [
       "          id accession_number           artist artistRole  artistId  \\\n",
       "40102  21561           T07064  Balka, Miroslaw     artist      2360   \n",
       "\n",
       "                    title dateText medium  \\\n",
       "40102  [diameter]1 x 3750     1995  Steel   \n",
       "\n",
       "                                              creditLine    year  \\\n",
       "40102  Presented by the Patrons of New Art through th...  1995.0   \n",
       "\n",
       "       acquisitionYear                       dimensions  width   height  \\\n",
       "40102           1996.0  unconfirmed: 10 x 37500 x 10 mm   10.0  37500.0   \n",
       "\n",
       "       depth units inscription thumbnailCopyright  \\\n",
       "40102   10.0    mm         NaN   © Miroslaw Balka   \n",
       "\n",
       "                                            thumbnailUrl  \\\n",
       "40102  https://data.opendatasoft.com/api/datasets/1.0...   \n",
       "\n",
       "                                                     url  \n",
       "40102  http://www.tate.org.uk/art/artworks/balka-diam...  "
      ]
     },
     "execution_count": 19,
     "metadata": {},
     "output_type": "execute_result"
    }
   ],
   "source": [
    "df[df['height'] / df['width'] > 3000]"
   ]
  },
  {
   "cell_type": "code",
   "execution_count": 20,
   "id": "hispanic-harris",
   "metadata": {},
   "outputs": [
    {
     "name": "stderr",
     "output_type": "stream",
     "text": [
      "c:\\users\\colo\\appdata\\local\\programs\\python\\python39\\lib\\site-packages\\pandas\\core\\frame.py:3607: SettingWithCopyWarning: \n",
      "A value is trying to be set on a copy of a slice from a DataFrame.\n",
      "Try using .loc[row_indexer,col_indexer] = value instead\n",
      "\n",
      "See the caveats in the documentation: https://pandas.pydata.org/pandas-docs/stable/user_guide/indexing.html#returning-a-view-versus-a-copy\n",
      "  self._set_item(key, value)\n"
     ]
    },
    {
     "data": {
      "image/png": "[encoded data removed]",
      "text/plain": [
       "<Figure size 432x288 with 1 Axes>"
      ]
     },
     "metadata": {
      "needs_background": "light"
     },
     "output_type": "display_data"
    }
   ],
   "source": [
    "temp_df = df[['height', 'width', 'year']]\n",
    "temp_is_m = temp_df[temp_df['year'] >= 1950]\n",
    "temp_not_m = temp_df[temp_df['year'] < 1950]\n",
    "\n",
    "temp_is_m['aspect_ratio'] = temp_is_m['height'] / temp_is_m['width']\n",
    "plt.xlabel(\"Year\")  \n",
    "plt.ylabel(\"Aspect Ratio\")\n",
    "plt.scatter(temp_is_m['year'], temp_is_m['aspect_ratio']);"
   ]
  },
  {
   "cell_type": "code",
   "execution_count": 21,
   "id": "smoking-child",
   "metadata": {},
   "outputs": [
    {
     "name": "stderr",
     "output_type": "stream",
     "text": [
      "c:\\users\\colo\\appdata\\local\\programs\\python\\python39\\lib\\site-packages\\IPython\\core\\pylabtools.py:134: UserWarning: Creating legend with loc=\"best\" can be slow with large amounts of data.\n",
      "  fig.canvas.print_figure(bytes_io, **kw)\n"
     ]
    },
    {
     "data": {
      "image/png": "[encoded data removed]",
      "text/plain": [
       "<Figure size 432x288 with 1 Axes>"
      ]
     },
     "metadata": {
      "needs_background": "light"
     },
     "output_type": "display_data"
    }
   ],
   "source": [
    "fig, ax = plt.subplots()\n",
    "temp_is_m = temp_df[temp_df['year'] >= 1950]\n",
    "temp_not_m = temp_df[temp_df['year'] < 1950]\n",
    "\n",
    "# Post Modern\n",
    "for x in range(temp_is_m.shape[0]):\n",
    "    rect = patches.Rectangle((0, 0), temp_is_m['width'].iloc[x], temp_is_m['height'].iloc[x], \n",
    "                         linewidth=1, edgecolor='b', facecolor='none', alpha = 0.6)\n",
    "    ax.add_patch(rect)\n",
    "\n",
    "# Pre Modern\n",
    "for x in range(temp_not_m.shape[0]):\n",
    "    rect = patches.Rectangle((0, 0), temp_not_m['width'].iloc[x], temp_not_m['height'].iloc[x], \n",
    "                         linewidth=1, edgecolor='r', facecolor='none', alpha = 0.6)\n",
    "    ax.add_patch(rect)\n",
    "    \n",
    "ax.set_ylim(-100, round_sf(int(temp_df['height'].max()), 2))\n",
    "ax.set_xlim(-100, round_sf(int(temp_df['width'].max()), 2))\n",
    "plt.legend([\"No\", \"Yes\"], title = \"Post Modern?\")\n",
    "leg = ax.get_legend()\n",
    "leg.legendHandles[0].set_color('r')\n",
    "leg.legendHandles[1].set_color('b')\n",
    "plt.xlabel(\"Width\")  \n",
    "plt.ylabel(\"Height\")\n",
    "plt.show()"
   ]
  },
  {
   "cell_type": "markdown",
   "id": "discrete-subcommittee",
   "metadata": {},
   "source": [
    "### Using Aspect Ratio to Predict Year of Artwork Creation"
   ]
  },
  {
   "cell_type": "code",
   "execution_count": 136,
   "id": "dried-explanation",
   "metadata": {},
   "outputs": [],
   "source": [
    "import sklearn\n",
    "import math\n",
    "from sklearn.datasets import make_classification\n",
    "from numpy import mean\n",
    "from numpy import std\n",
    "from sklearn.datasets import make_classification\n",
    "from sklearn.model_selection import cross_val_score\n",
    "from sklearn.model_selection import RepeatedStratifiedKFold\n",
    "from sklearn.ensemble import RandomForestClassifier, RandomForestRegressor\n",
    "from sklearn.model_selection import train_test_split\n",
    "from sklearn.preprocessing import StandardScaler"
   ]
  },
  {
   "cell_type": "code",
   "execution_count": 137,
   "id": "pediatric-canada",
   "metadata": {},
   "outputs": [
    {
     "data": {
      "text/plain": [
       "height    0\n",
       "width     0\n",
       "year      0\n",
       "dtype: int64"
      ]
     },
     "execution_count": 137,
     "metadata": {},
     "output_type": "execute_result"
    }
   ],
   "source": [
    "# fill missing data with mean\n",
    "temp_df = df[['height', 'width', 'year']]\n",
    "temp_df = temp_df.dropna()\n",
    "# temp_df['height'] = temp_df.loc[:, 'height'].fillna(temp_df['height'].mean())\n",
    "# temp_df['width'] = temp_df.loc[:, 'width'].fillna(temp_df['width'].mean())\n",
    "# temp_df['year'] = temp_df.loc[:, 'year'].fillna(temp_df['year'].mean())\n",
    "temp_df.isna().sum()\n",
    "# temp_df"
   ]
  },
  {
   "cell_type": "code",
   "execution_count": 138,
   "id": "sapphire-strength",
   "metadata": {},
   "outputs": [
    {
     "data": {
      "text/plain": [
       "0        1991\n",
       "1        1972\n",
       "2        1971\n",
       "3        1994\n",
       "4        1968\n",
       "         ... \n",
       "69194    1839\n",
       "69197    1819\n",
       "69198    1819\n",
       "69199    1807\n",
       "69200    1807\n",
       "Name: year, Length: 61657, dtype: int32"
      ]
     },
     "execution_count": 138,
     "metadata": {},
     "output_type": "execute_result"
    }
   ],
   "source": [
    "# remove deicmal places from 'year'\n",
    "temp_df['year'] = temp_df.loc[:, 'year'].astype(int)\n",
    "temp_df['year']"
   ]
  },
  {
   "cell_type": "code",
   "execution_count": 139,
   "id": "comparable-shock",
   "metadata": {},
   "outputs": [],
   "source": [
    "X_train, X_test, y_train, y_test = train_test_split(temp_df['height'] / temp_df['width'], temp_df['year'], test_size=0.3, random_state=0)\n",
    "# X = temp_df.loc[:,'height'] / temp_df.loc[:, 'width']\n",
    "# Y = temp_df.loc[:, 'year']\n",
    "# X_train, X_test, y_train, y_test = train_test_split(X, Y, test_size=0.3, random_state=0)\n",
    "# temp_df"
   ]
  },
  {
   "cell_type": "code",
   "execution_count": 140,
   "id": "collect-laser",
   "metadata": {},
   "outputs": [],
   "source": [
    "# Feature Scaling\n",
    "sc = StandardScaler()\n",
    "X_train = X_train.values.reshape(-1, 1)\n",
    "X_test = X_test.values.reshape(-1, 1)\n",
    "X_train = sc.fit_transform(X_train)\n",
    "X_test = sc.transform(X_test)"
   ]
  },
  {
   "cell_type": "code",
   "execution_count": 128,
   "id": "058702d7",
   "metadata": {},
   "outputs": [],
   "source": [
    "# X_train[6]"
   ]
  },
  {
   "cell_type": "code",
   "execution_count": 141,
   "id": "nutritional-european",
   "metadata": {},
   "outputs": [],
   "source": [
    "# Model\n",
    "\n",
    "# artworks_ar$century <- cut(artworks_ar$year, breaks = \n",
    "#                            c(1500,1550,1600,1650,1700,1750,1800,1850\n",
    "#                              1900,1950,2000,2050),\n",
    "#             labels = c(\"1500-1549\", \"1550-1600\",\"1600-1649\",\"1650-1699\",\"1700-1749\",\"1750-1799\",\n",
    "#                        \"1800-1849\",\"1850-1899\",\"1900-1949\", \"1950-1999\",\"2000-2050\"), \n",
    "#                            include.lowest = TRUE)\n",
    "\n",
    "# sample <- sample.split(artworks_ar$century, SplitRatio=0.7)\n",
    "\n",
    "# train <- artworks_ar[sample,]\n",
    "# test  <- artworks_ar[!sample,]\n",
    "clf = RandomForestClassifier(n_estimators = 500, bootstrap=True, oob_score = True, \n",
    "                            random_state = 0)\n",
    "# clf = RandomForestRegressor(n_estimators = 500)\n",
    "# min_year = round_sf(temp_df['year'].min(), 2)\n",
    "# max_year = round_sf(temp_df['year'].max(), 2)\n",
    "\n",
    "# for num in range(min_year, max_year + 50, 50):\n",
    "# # #     print(str(num) + ' - ' + str(num + 50 - 1))\n",
    "#     temp_X = X_train[(temp_df['year'] >= num) & (temp_df['year'] <= num + 50 - 1)]\n",
    "    \n",
    "#     temp_Y = y_train[(temp_df['year'] >= num) & (temp_df['year'] <= num + 50 - 1)]\n",
    "clf.fit(X_train, y_train)\n",
    "    \n",
    "\n",
    "y_pred = clf.predict(X_test)"
   ]
  },
  {
   "cell_type": "code",
   "execution_count": 142,
   "id": "abroad-transmission",
   "metadata": {},
   "outputs": [
    {
     "data": {
      "text/plain": [
       "array([1874, 1830, 1819, ..., 1822, 1982, 1795])"
      ]
     },
     "execution_count": 142,
     "metadata": {},
     "output_type": "execute_result"
    }
   ],
   "source": [
    "y_pred"
   ]
  },
  {
   "cell_type": "code",
   "execution_count": 143,
   "id": "threaded-postage",
   "metadata": {},
   "outputs": [
    {
     "name": "stdout",
     "output_type": "stream",
     "text": [
      "Mean Absolute Error: 26.779435614661043\n",
      "Mean Squared Error: 3487.7071034706455\n",
      "Root Mean Squared Error: 59.056812506861945\n",
      "Accuracy: 0.5457346740188128\n"
     ]
    }
   ],
   "source": [
    "from sklearn import metrics\n",
    "# Evaluation\n",
    "print('Mean Absolute Error:', metrics.mean_absolute_error(y_test, y_pred))\n",
    "print('Mean Squared Error:', metrics.mean_squared_error(y_test, y_pred))\n",
    "print('Root Mean Squared Error:', np.sqrt(metrics.mean_squared_error(y_test, y_pred)))\n",
    "print(\"Accuracy:\",metrics.accuracy_score(y_test, y_pred))"
   ]
  },
  {
   "cell_type": "code",
   "execution_count": 144,
   "id": "hybrid-luther",
   "metadata": {},
   "outputs": [
    {
     "data": {
      "text/plain": [
       "array([1830, 1969, 1995])"
      ]
     },
     "execution_count": 144,
     "metadata": {},
     "output_type": "execute_result"
    }
   ],
   "source": [
    "y_pred = clf.predict([[0.123], [0.3], [1000]])\n",
    "y_pred"
   ]
  },
  {
   "cell_type": "code",
   "execution_count": 145,
   "id": "14f68afc",
   "metadata": {},
   "outputs": [],
   "source": [
    "y_pred = clf.predict(X_train)"
   ]
  },
  {
   "cell_type": "code",
   "execution_count": 146,
   "id": "e47ba68e",
   "metadata": {},
   "outputs": [
    {
     "data": {
      "text/plain": [
       "array([1927, 1799, 1983, ..., 1983, 1815, 1810])"
      ]
     },
     "execution_count": 146,
     "metadata": {},
     "output_type": "execute_result"
    }
   ],
   "source": [
    "y_pred"
   ]
  },
  {
   "cell_type": "code",
   "execution_count": 147,
   "id": "c6941756",
   "metadata": {},
   "outputs": [
    {
     "name": "stdout",
     "output_type": "stream",
     "text": [
      "Mean Absolute Error: 8.434069371394147\n",
      "Mean Squared Error: 1040.0947195254755\n",
      "Root Mean Squared Error: 32.25049952365816\n",
      "Accuracy: 0.804119650594314\n"
     ]
    }
   ],
   "source": [
    "print('Mean Absolute Error:', metrics.mean_absolute_error(y_train, y_pred))\n",
    "print('Mean Squared Error:', metrics.mean_squared_error(y_train, y_pred))\n",
    "print('Root Mean Squared Error:', np.sqrt(metrics.mean_squared_error(y_train, y_pred)))\n",
    "print(\"Accuracy:\",metrics.accuracy_score(y_train, y_pred))"
   ]
  },
  {
   "cell_type": "code",
   "execution_count": null,
   "id": "2f83070f",
   "metadata": {},
   "outputs": [],
   "source": []
  }
 ],
 "metadata": {
  "kernelspec": {
   "display_name": "Python 3 (ipykernel)",
   "language": "python",
   "name": "python3"
  },
  "language_info": {
   "codemirror_mode": {
    "name": "ipython",
    "version": 3
   },
   "file_extension": ".py",
   "mimetype": "text/x-python",
   "name": "python",
   "nbconvert_exporter": "python",
   "pygments_lexer": "ipython3",
   "version": "3.9.6"
  }
 },
 "nbformat": 4,
 "nbformat_minor": 5
}
