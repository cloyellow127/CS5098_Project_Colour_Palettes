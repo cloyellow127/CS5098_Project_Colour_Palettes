{
 "cells": [
  {
   "cell_type": "code",
   "execution_count": 110,
   "id": "3577c22f",
   "metadata": {},
   "outputs": [],
   "source": [
    "import pandas as pd\n",
    "import numpy as np\n",
    "from PIL import Image\n",
    "import cv2\n",
    "import os\n",
    "import matplotlib.pyplot as plt\n",
    "%matplotlib notebook \n",
    "from skimage.io import imshow, imread\n",
    "from matplotlib import colors\n",
    "from os import path\n",
    "import ipywidgets as widgets\n",
    "import sys\n",
    "import math\n",
    "from ipywidgets import interact, interact_manual\n",
    "from sklearn.cluster import KMeans\n",
    "sys.path.append(path.abspath('../MSc-CS-Project---ColourPaletteExtractor-master/'))\n",
    "from colourpaletteextractor.model import model"
   ]
  },
  {
   "cell_type": "code",
   "execution_count": 59,
   "id": "5de5b05b",
   "metadata": {},
   "outputs": [
    {
     "data": {
      "application/vnd.jupyter.widget-view+json": {
       "model_id": "d3b94e3094534d05b3b274ffadd8b1a4",
       "version_major": 2,
       "version_minor": 0
      },
      "text/plain": [
       "interactive(children=(Dropdown(description='folder', options=('art_uk', 'LICENSE', 'MSc-CS-Project---ColourPal…"
      ]
     },
     "metadata": {},
     "output_type": "display_data"
    }
   ],
   "source": [
    "foldername = ''\n",
    "@interact\n",
    "def choose_img_folder(folder = [f for f in os.listdir('../') if '.' not in f]):\n",
    "    global foldername\n",
    "    foldername = folder"
   ]
  },
  {
   "cell_type": "code",
   "execution_count": 61,
   "id": "d7ac08bf",
   "metadata": {},
   "outputs": [
    {
     "data": {
      "application/vnd.jupyter.widget-view+json": {
       "model_id": "afcc4a3614e14595a185718c028c9355",
       "version_major": 2,
       "version_minor": 0
      },
      "text/plain": [
       "interactive(children=(Dropdown(description='file', options=('normalface1.jpg', 'vase.jpg'), value='normalface1…"
      ]
     },
     "metadata": {},
     "output_type": "display_data"
    }
   ],
   "source": [
    "image_formats = ['.jpg', '.jpeg', '.gif', '.png', '.tif', '.tiff', '.bmp', '.eps',\n",
    "                 '.raw', '.cr2', '.nef', '.orf', '.sr2']\n",
    "image_path = ''\n",
    "image = ''\n",
    "@interact\n",
    "def chooseimage(file = [file for file in \n",
    "                             os.listdir('../' + foldername)\n",
    "                             if any(word in file for word in image_formats)]):\n",
    "    global image_path, image\n",
    "    image = cv2.imread(\"../\" + foldername + \"/\" + file)\n",
    "    image = cv2.cvtColor(image, cv2.COLOR_BGR2RGB)\n",
    "    plt.figure(figsize=(5, 5))\n",
    "    imshow(image);\n",
    "    image_path = \"../\" + foldername + \"/\" + file\n",
    "    plt.show()\n",
    "    recoloured_image, colour_palette, relative_frequencies = model.generate_colour_palette_from_image(image_path)"
   ]
  },
  {
   "cell_type": "code",
   "execution_count": 22,
   "id": "c5cde39e",
   "metadata": {},
   "outputs": [
    {
     "data": {
      "application/vnd.jupyter.widget-view+json": {
       "model_id": "4ab7ccb4021c4d2c98cdb58b05885e09",
       "version_major": 2,
       "version_minor": 0
      },
      "text/plain": [
       "interactive(children=(Output(),), _dom_classes=('widget-interact',))"
      ]
     },
     "metadata": {},
     "output_type": "display_data"
    }
   ],
   "source": [
    "def colour_palette_to_tuple_rgba(colour):\n",
    "    templist = []\n",
    "    for i in range(3):\n",
    "        if colour[i] < 0:\n",
    "            templist.append(256 + colour[i])\n",
    "        else:\n",
    "            templist.append(colour[i])\n",
    "    return (templist[0] / 255, templist[1] / 255, templist[2] / 255)\n",
    "\n",
    "def colour_palette_to_positive(colour):\n",
    "    templist = []\n",
    "    for i in range(3):\n",
    "        if colour[i] < 0:\n",
    "            templist.append(256 + colour[i])\n",
    "        else:\n",
    "            templist.append(colour[i])\n",
    "    return (templist[0], templist[1], templist[2])\n",
    "\n",
    "@interact\n",
    "def show_color_palette_pie():\n",
    "    my_labels = [colour_palette_to_positive(colour_palette[i]) for i in range(len(colour_palette))]\n",
    "    plt.figure(figsize=(8, 8))\n",
    "    plt.pie(relative_frequencies, labels = my_labels, \n",
    "            colors = [colour_palette_to_tuple_rgba(colour_palette[i]) for i in range(len(colour_palette))],\n",
    "           autopct = '%1.0f%%',\n",
    "        textprops={'fontsize': 8}\n",
    "           )\n",
    "    plt.title('Colour Palettes', fontsize=10)\n",
    "    plt.axis('equal')\n",
    "    plt.show()"
   ]
  },
  {
   "cell_type": "code",
   "execution_count": 33,
   "id": "bf2c9a8a",
   "metadata": {},
   "outputs": [
    {
     "data": {
      "application/vnd.jupyter.widget-view+json": {
       "model_id": "3f2e688ddac7404a98cad6e2cb3c5795",
       "version_major": 2,
       "version_minor": 0
      },
      "text/plain": [
       "interactive(children=(IntSlider(value=10, description='scale_percent', min=10, step=10), Output()), _dom_class…"
      ]
     },
     "metadata": {},
     "output_type": "display_data"
    }
   ],
   "source": [
    "@interact (scale_percent = (10, 100, 10))\n",
    "def show_3dRGB(scale_percent = 10):\n",
    "    global image\n",
    "    temp_image = cv2.resize(image, None, fx=scale_percent/100, fy=scale_percent/100, interpolation = cv2.INTER_AREA) \n",
    "    \n",
    "    r, g, b = cv2.split(temp_image)\n",
    "    fig = plt.figure(figsize=(10, 10))\n",
    "    axis = fig.add_subplot(1, 1, 1, projection=\"3d\")\n",
    "    pixel_colors = temp_image.reshape((np.shape(temp_image)[0] * np.shape(temp_image)[1], 3))\n",
    "    norm = colors.Normalize(vmin=-1.,vmax=1.)\n",
    "    norm.autoscale(pixel_colors)\n",
    "    pixel_colors = norm(pixel_colors).tolist()\n",
    "    axis.scatter(r.flatten(), g.flatten(), b.flatten(), s = 100, facecolors = pixel_colors, marker=\".\")\n",
    "    axis.set_xlabel(\"Red\")\n",
    "    axis.set_ylabel(\"Green\")\n",
    "    axis.set_zlabel(\"Blue\")\n",
    "    \n",
    "    plt.show()"
   ]
  },
  {
   "cell_type": "code",
   "execution_count": 36,
   "id": "a20cb81e",
   "metadata": {},
   "outputs": [
    {
     "data": {
      "application/vnd.jupyter.widget-view+json": {
       "model_id": "4f841a583fed48aaa45ef80b1b119db7",
       "version_major": 2,
       "version_minor": 0
      },
      "text/plain": [
       "interactive(children=(IntSlider(value=10, description='scale_percent', min=10, step=10), Output()), _dom_class…"
      ]
     },
     "metadata": {},
     "output_type": "display_data"
    }
   ],
   "source": [
    "@interact (scale_percent = (10, 100, 10))\n",
    "def show_3dHSV(scale_percent = 10):\n",
    "    hsv_img = cv2.cvtColor(image, cv2.COLOR_RGB2HSV)\n",
    "    \n",
    "    temp_image = cv2.resize(image, None, fx=scale_percent/100, fy=scale_percent/100, interpolation = cv2.INTER_AREA) \n",
    "    hsv_img = cv2.resize(hsv_img, None, fx=scale_percent/100, fy=scale_percent/100, interpolation = cv2.INTER_AREA) \n",
    "    \n",
    "    h, s, v = cv2.split(hsv_img)\n",
    "    \n",
    "    pixel_colors = temp_image.reshape((np.shape(temp_image)[0]*np.shape(temp_image)[1], 3))\n",
    "    norm = colors.Normalize(vmin=-1.,vmax=1.)\n",
    "    norm.autoscale(pixel_colors)\n",
    "    pixel_colors = norm(pixel_colors).tolist()\n",
    "    \n",
    "    fig = plt.figure(figsize=(10, 10))\n",
    "    axis = fig.add_subplot(1, 1, 1, projection=\"3d\")\n",
    "    axis.scatter(h.flatten(), s.flatten(), v.flatten(), s= 100, facecolors = pixel_colors, marker=\".\")\n",
    "    axis.set_xlabel(\"Hue\")\n",
    "    axis.set_ylabel(\"Saturation\")\n",
    "    axis.set_zlabel(\"Value\")\n",
    "    plt.show()"
   ]
  },
  {
   "cell_type": "code",
   "execution_count": 39,
   "id": "3d8b9406",
   "metadata": {},
   "outputs": [
    {
     "data": {
      "application/vnd.jupyter.widget-view+json": {
       "model_id": "4d8e7d5e5e8040f3858083bd2f2870c5",
       "version_major": 2,
       "version_minor": 0
      },
      "text/plain": [
       "interactive(children=(IntSlider(value=0, description='r', max=255), IntSlider(value=0, description='g', max=25…"
      ]
     },
     "metadata": {},
     "output_type": "display_data"
    }
   ],
   "source": [
    "@interact (r = (0, 255, 1), g = (0, 255,1), b = (0, 255,1))\n",
    "def filterRGB_img(r=0, g=0, b = 0,\n",
    "                 directory = widgets.Text(value='Rename_File_Here.jpg', disabled=False)):\n",
    "    \n",
    "    img_filtered = (image[:,:,0] >= r) & (image[:,:,1] >= g) & (image[:,:,2] >= b)\n",
    "    plt.figure(num=None, figsize=(5, 5))\n",
    "    img_new = image.copy()\n",
    "    img_new[:, :, 0] = img_new[:, :, 0] * img_filtered\n",
    "    img_new[:, :, 1] = img_new[:, :, 1] * img_filtered\n",
    "    img_new[:, :, 2] = img_new[:, :, 2] * img_filtered\n",
    "    plt.imshow(img_new);\n",
    "    plt.show()\n",
    "    \n",
    "    def clicked(arg):\n",
    "        download_img = Image.fromarray(img_new, 'RGB')\n",
    "        if len(directory.split('/')) > 1:\n",
    "            split = directory.split('/')\n",
    "            folders = directory.replace(split[-1], '')\n",
    "            Path(folders).mkdir(parents=True, exist_ok=True)\n",
    "        download_img.save(directory)\n",
    "        print(\"saved\", end='\\r')\n",
    "    \n",
    "    save_button = widgets.Button(description = 'Save image')   \n",
    "    save_button.on_click(clicked)\n",
    "    display(save_button)"
   ]
  },
  {
   "cell_type": "code",
   "execution_count": 40,
   "id": "57df264c",
   "metadata": {},
   "outputs": [
    {
     "data": {
      "application/vnd.jupyter.widget-view+json": {
       "model_id": "859c7500aee74c15aacb8a829c09cc51",
       "version_major": 2,
       "version_minor": 0
      },
      "text/plain": [
       "interactive(children=(Dropdown(description='option', options=('All', 'Hue', 'Saturation', 'Value'), value='All…"
      ]
     },
     "metadata": {},
     "output_type": "display_data"
    }
   ],
   "source": [
    "@interact\n",
    "def img_HSV(option = [\"All\", 'Hue','Saturation','Value']):\n",
    "    img_hsv = cv2.cvtColor(image, cv2.COLOR_BGR2HSV)\n",
    "    if option == \"All\":\n",
    "        hsv_list = ['Hue','Saturation','Value']\n",
    "        fig, ax = plt.subplots(1, 3, figsize=(10,5), sharey = True)\n",
    "\n",
    "        ax[0].imshow(img_hsv[:,:,0], cmap = 'hsv')\n",
    "        ax[0].set_title(hsv_list[0], fontsize = 20)\n",
    "        ax[0].axis('off')\n",
    "\n",
    "        ax[1].imshow(img_hsv[:,:,1], cmap = 'Greys')\n",
    "        ax[1].set_title(hsv_list[1], fontsize = 20)\n",
    "        ax[1].axis('off')\n",
    "\n",
    "        ax[2].imshow(img_hsv[:,:,2], cmap = 'gray')\n",
    "        ax[2].set_title(hsv_list[2], fontsize = 20)\n",
    "        ax[2].axis('off')\n",
    "        \n",
    "        fig.tight_layout()\n",
    "        \n",
    "    elif option == \"Hue\":\n",
    "        plt.figure(num=None, figsize=(8, 6))\n",
    "        plt.imshow(img_hsv[:,:,0], cmap='hsv')\n",
    "        plt.colorbar()\n",
    "    \n",
    "    elif option == \"Saturation\":\n",
    "        plt.figure(num=None, figsize=(8, 6))\n",
    "        plt.imshow(img_hsv[:,:,1], cmap='Greys')\n",
    "        plt.colorbar()\n",
    "    \n",
    "    elif option == \"Value\":\n",
    "        plt.figure(num=None, figsize=(8, 6))\n",
    "        plt.imshow(img_hsv[:,:,2], cmap='gray')\n",
    "        plt.colorbar()\n",
    "    \n",
    "    plt.show()"
   ]
  },
  {
   "cell_type": "code",
   "execution_count": 41,
   "id": "33978ce2",
   "metadata": {},
   "outputs": [
    {
     "data": {
      "application/vnd.jupyter.widget-view+json": {
       "model_id": "2bad5b533b7045ecb8cf4e572ac7b461",
       "version_major": 2,
       "version_minor": 0
      },
      "text/plain": [
       "interactive(children=(IntRangeSlider(value=(0, 255), description='Hue', max=255), IntSlider(value=0, descripti…"
      ]
     },
     "metadata": {},
     "output_type": "display_data"
    }
   ],
   "source": [
    "@interact (Saturation = (0, 255, 1))\n",
    "def img_HSV_filter(h = widgets.IntRangeSlider(description='Hue', value=[0, 255],\n",
    "                                               min = 0, max = 255, step=1),\n",
    "                    Saturation = 0,\n",
    "                  directory = widgets.Text(value='Rename_File_Here.jpg', disabled=False)):\n",
    "    img_hsv = cv2.cvtColor(image, cv2.COLOR_BGR2HSV)\n",
    "    \n",
    "    lower_mask = img_hsv[:,:,0] >= int(h[0])\n",
    "    upper_mask = img_hsv[:,:,0] <= int(h[1])\n",
    "    saturation = img_hsv[:,:,1] >= Saturation\n",
    "    mask = upper_mask * lower_mask * saturation\n",
    "    red = image[:,:,0] * mask\n",
    "    green = image[:,:,1] * mask\n",
    "    blue = image[:,:,2] * mask\n",
    "    image_masked = np.dstack((red,green,blue))\n",
    "    plt.figure(num=None, figsize=(8, 8))\n",
    "    plt.imshow(image_masked);\n",
    "    \n",
    "    plt.show()\n",
    "    \n",
    "    def clicked(arg):\n",
    "        download_img = Image.fromarray(image_masked, 'RGB')\n",
    "        if len(directory.split('/')) > 1:\n",
    "            split = directory.split('/')\n",
    "            folders = directory.replace(split[-1], '')\n",
    "            Path(folders).mkdir(parents=True, exist_ok=True)\n",
    "        download_img.save(directory)\n",
    "        print(\"saved\", end='\\r')\n",
    "    \n",
    "    save_button = widgets.Button(description = 'Save image')   \n",
    "    save_button.on_click(clicked)\n",
    "    display(save_button)"
   ]
  },
  {
   "cell_type": "code",
   "execution_count": 42,
   "id": "9568e853",
   "metadata": {},
   "outputs": [],
   "source": [
    "def image_to_df(img):\n",
    "    df = pd.DataFrame([img[:,:,0].flatten(), img[:,:,1].flatten(), img[:,:,2].flatten()]).T\n",
    "    df.columns = ['R','G','B']\n",
    "    return df"
   ]
  },
  {
   "cell_type": "code",
   "execution_count": 143,
   "id": "644514bd",
   "metadata": {},
   "outputs": [
    {
     "data": {
      "application/vnd.jupyter.widget-view+json": {
       "model_id": "9d34c1aebdca41e98d883795721b38cc",
       "version_major": 2,
       "version_minor": 0
      },
      "text/plain": [
       "interactive(children=(IntSlider(value=2, description='k', max=50, min=2), Text(value='Rename_Folder_Here/Renam…"
      ]
     },
     "metadata": {},
     "output_type": "display_data"
    }
   ],
   "source": [
    "@interact_manual (k = (2, 50, 1))\n",
    "def img_HSV_filter(k = 2, \n",
    "                   directory = widgets.Text(value='Rename_Folder_Here/Rename_File_Here.jpg', \n",
    "                                            disabled=False,\n",
    "                                           layout=widgets.Layout(height=\"auto\", width=\"auto\"))):\n",
    "    temp_df = image_to_df(image)\n",
    "    \n",
    "    plt.figure(num=None, figsize=(5, 5))\n",
    "    plt.imshow(image);\n",
    "    \n",
    "    kmeans = KMeans(n_clusters = k, random_state = 42).fit(temp_df)\n",
    "    result = kmeans.labels_.reshape(image.shape[0],image.shape[1])\n",
    "    \n",
    "    fig, ax = plt.subplots(math.ceil(k/2), 2, figsize=(8, 5 * math.ceil(k/2)), sharey = True)\n",
    "\n",
    "    temp_save_as = []\n",
    "    \n",
    "    for n in range(k):\n",
    "        temp_img = image.copy()\n",
    "        temp_img[:, :, 0] = temp_img[:, :, 0]*(result==[n])\n",
    "        temp_img[:, :, 1] = temp_img[:, :, 1]*(result==[n])\n",
    "        temp_img[:, :, 2] = temp_img[:, :, 2]*(result==[n])\n",
    "        temp_save_as.append(temp_img)\n",
    "        if k == 2:\n",
    "            ax[n].imshow(temp_img)\n",
    "            ax[n].axis('off')\n",
    "        else:\n",
    "            ax[math.floor(n/2), n%2].imshow(temp_img)\n",
    "            ax[math.floor(n/2), n%2].axis('off')\n",
    "\n",
    "#         plt.figure(num=None, figsize=(5, 5))\n",
    "#         plt.imshow(temp_img);\n",
    "    \n",
    "    plt.show()\n",
    "    \n",
    "    def clicked(arg):\n",
    "        if len(directory.split('/')) > 1:\n",
    "            split = directory.split('/')\n",
    "            folders = directory.replace(split[-1], '')\n",
    "            Path(folders).mkdir(parents=True, exist_ok=True)\n",
    "        \n",
    "        for n in range(len(temp_save_as)):\n",
    "            download_img = Image.fromarray(temp_save_as[n], 'RGB')\n",
    "            download_img.save(directory.split('.')[0] + \"_\" + str(n) + \".jpg\")\n",
    "            \n",
    "        print(\"saved\", end='\\r')\n",
    "    \n",
    "    save_button = widgets.Button(description = 'Save images')   \n",
    "    save_button.on_click(clicked)\n",
    "    display(save_button)"
   ]
  },
  {
   "cell_type": "code",
   "execution_count": null,
   "id": "fd753c6a",
   "metadata": {},
   "outputs": [],
   "source": []
  }
 ],
 "metadata": {
  "kernelspec": {
   "display_name": "Python 3 (ipykernel)",
   "language": "python",
   "name": "python3"
  },
  "language_info": {
   "codemirror_mode": {
    "name": "ipython",
    "version": 3
   },
   "file_extension": ".py",
   "mimetype": "text/x-python",
   "name": "python",
   "nbconvert_exporter": "python",
   "pygments_lexer": "ipython3",
   "version": "3.9.6"
  }
 },
 "nbformat": 4,
 "nbformat_minor": 5
}
