{
 "cells": [
  {
   "cell_type": "code",
   "execution_count": 1,
   "id": "tamil-charity",
   "metadata": {},
   "outputs": [],
   "source": [
    "import requests\n",
    "from PIL import Image\n",
    "import pandas as pd\n",
    "%matplotlib inline\n",
    "from pandas.io.json import json_normalize\n",
    "import matplotlib.pyplot as plt\n",
    "import matplotlib.image as mpimg\n",
    "import matplotlib.patches as patches\n",
    "import json"
   ]
  },
  {
   "cell_type": "code",
   "execution_count": 2,
   "id": "supposed-appliance",
   "metadata": {},
   "outputs": [],
   "source": [
    "response = requests.get('https://public.opendatasoft.com/api/records/1.0/search/?dataset=the-tate-collection&q=&facet=artist&facet=medium&facet=year&facet=acquisitionyear&facet=dimensions')\n",
    "# print(response.status_code)\n",
    "# print(response.json())\n",
    "# df = pd.json_normalize(response.json())\n",
    "# df"
   ]
  },
  {
   "cell_type": "code",
   "execution_count": 3,
   "id": "challenging-bolivia",
   "metadata": {},
   "outputs": [],
   "source": [
    "# im = Image.open(requests.get(\"https://upload.wikimedia.org/wikipedia/en/thumb/3/33/Patrick_Star.svg/1200px-Patrick_Star.svg.png\", stream=True).raw)\n",
    "# im"
   ]
  },
  {
   "cell_type": "code",
   "execution_count": 4,
   "id": "selective-anchor",
   "metadata": {},
   "outputs": [],
   "source": [
    "# Local file\n",
    "df = pd.read_json('the-tate-collection.json')\n",
    "# df"
   ]
  },
  {
   "cell_type": "code",
   "execution_count": 5,
   "id": "several-deadline",
   "metadata": {},
   "outputs": [
    {
     "name": "stderr",
     "output_type": "stream",
     "text": [
      "<ipython-input-5-186525c37feb>:1: FutureWarning: pandas.io.json.json_normalize is deprecated, use pandas.json_normalize instead\n",
      "  df = json_normalize(df['fields'])\n"
     ]
    },
    {
     "data": {
      "text/html": [
       "<div>\n",
       "<style scoped>\n",
       "    .dataframe tbody tr th:only-of-type {\n",
       "        vertical-align: middle;\n",
       "    }\n",
       "\n",
       "    .dataframe tbody tr th {\n",
       "        vertical-align: top;\n",
       "    }\n",
       "\n",
       "    .dataframe thead th {\n",
       "        text-align: right;\n",
       "    }\n",
       "</style>\n",
       "<table border=\"1\" class=\"dataframe\">\n",
       "  <thead>\n",
       "    <tr style=\"text-align: right;\">\n",
       "      <th></th>\n",
       "      <th>medium</th>\n",
       "      <th>dimensions</th>\n",
       "      <th>title</th>\n",
       "      <th>url</th>\n",
       "      <th>artist</th>\n",
       "      <th>accession_number</th>\n",
       "      <th>artistrole</th>\n",
       "      <th>height</th>\n",
       "      <th>acquisitionyear</th>\n",
       "      <th>width</th>\n",
       "      <th>...</th>\n",
       "      <th>inscription</th>\n",
       "      <th>thumbnailurl.mimetype</th>\n",
       "      <th>thumbnailurl.format</th>\n",
       "      <th>thumbnailurl.filename</th>\n",
       "      <th>thumbnailurl.width</th>\n",
       "      <th>thumbnailurl.id</th>\n",
       "      <th>thumbnailurl.height</th>\n",
       "      <th>thumbnailurl.thumbnail</th>\n",
       "      <th>thumbnailcopyright</th>\n",
       "      <th>depth</th>\n",
       "    </tr>\n",
       "  </thead>\n",
       "  <tbody>\n",
       "    <tr>\n",
       "      <th>0</th>\n",
       "      <td>Photograph, gelatin silver print on paper</td>\n",
       "      <td>image: 181 x 236 mm</td>\n",
       "      <td>Photograph of Photograph</td>\n",
       "      <td>http://www.tate.org.uk/art/artworks/takamatsu-...</td>\n",
       "      <td>Takamatsu, Jiro</td>\n",
       "      <td>P80224</td>\n",
       "      <td>artist</td>\n",
       "      <td>236.0</td>\n",
       "      <td>2013</td>\n",
       "      <td>181.0</td>\n",
       "      <td>...</td>\n",
       "      <td>NaN</td>\n",
       "      <td>NaN</td>\n",
       "      <td>NaN</td>\n",
       "      <td>NaN</td>\n",
       "      <td>NaN</td>\n",
       "      <td>NaN</td>\n",
       "      <td>NaN</td>\n",
       "      <td>NaN</td>\n",
       "      <td>NaN</td>\n",
       "      <td>NaN</td>\n",
       "    </tr>\n",
       "    <tr>\n",
       "      <th>1</th>\n",
       "      <td>Graphite, chalk and watercolour on paper</td>\n",
       "      <td>support: 1213 x 804 mm</td>\n",
       "      <td>Untitled</td>\n",
       "      <td>http://www.tate.org.uk/art/artworks/winters-un...</td>\n",
       "      <td>Winters, Terry</td>\n",
       "      <td>T04928</td>\n",
       "      <td>artist</td>\n",
       "      <td>804.0</td>\n",
       "      <td>1987</td>\n",
       "      <td>1213.0</td>\n",
       "      <td>...</td>\n",
       "      <td>date inscribed</td>\n",
       "      <td>NaN</td>\n",
       "      <td>NaN</td>\n",
       "      <td>NaN</td>\n",
       "      <td>NaN</td>\n",
       "      <td>NaN</td>\n",
       "      <td>NaN</td>\n",
       "      <td>NaN</td>\n",
       "      <td>NaN</td>\n",
       "      <td>NaN</td>\n",
       "    </tr>\n",
       "    <tr>\n",
       "      <th>2</th>\n",
       "      <td>Ink on paper</td>\n",
       "      <td>support: 53 x 102 mm</td>\n",
       "      <td>[title not known]</td>\n",
       "      <td>http://www.tate.org.uk/art/artworks/dance-holl...</td>\n",
       "      <td>Dance-Holland, Sir Nathaniel</td>\n",
       "      <td>T08333</td>\n",
       "      <td>artist</td>\n",
       "      <td>102.0</td>\n",
       "      <td>1996</td>\n",
       "      <td>53.0</td>\n",
       "      <td>...</td>\n",
       "      <td>NaN</td>\n",
       "      <td>image/jpeg</td>\n",
       "      <td>JPEG</td>\n",
       "      <td>T08333_8.jpg</td>\n",
       "      <td>256.0</td>\n",
       "      <td>09485ebb8755af7e18c9812e29e2af73</td>\n",
       "      <td>142.0</td>\n",
       "      <td>True</td>\n",
       "      <td>NaN</td>\n",
       "      <td>NaN</td>\n",
       "    </tr>\n",
       "    <tr>\n",
       "      <th>3</th>\n",
       "      <td>Graphite on paper. Verso: graphite on paper</td>\n",
       "      <td>support: 109 x 75 mm</td>\n",
       "      <td>A Boy with a Stick. Verso: Sketches</td>\n",
       "      <td>http://www.tate.org.uk/art/artworks/varley-a-b...</td>\n",
       "      <td>Varley, John</td>\n",
       "      <td>T08709</td>\n",
       "      <td>artist</td>\n",
       "      <td>75.0</td>\n",
       "      <td>1997</td>\n",
       "      <td>109.0</td>\n",
       "      <td>...</td>\n",
       "      <td>NaN</td>\n",
       "      <td>image/jpeg</td>\n",
       "      <td>JPEG</td>\n",
       "      <td>T08709_8.jpg</td>\n",
       "      <td>177.0</td>\n",
       "      <td>dc60cbde5eb9c73738ec0f0abc305c4e</td>\n",
       "      <td>256.0</td>\n",
       "      <td>True</td>\n",
       "      <td>NaN</td>\n",
       "      <td>NaN</td>\n",
       "    </tr>\n",
       "    <tr>\n",
       "      <th>4</th>\n",
       "      <td>Etching with paint, watercolour and ink on paper</td>\n",
       "      <td>support: 257 x 184 mm</td>\n",
       "      <td>First Book of Urizen pl. 11</td>\n",
       "      <td>http://www.tate.org.uk/art/artworks/blake-firs...</td>\n",
       "      <td>Blake, William</td>\n",
       "      <td>T13004</td>\n",
       "      <td>artist</td>\n",
       "      <td>184.0</td>\n",
       "      <td>2010</td>\n",
       "      <td>257.0</td>\n",
       "      <td>...</td>\n",
       "      <td>NaN</td>\n",
       "      <td>image/jpeg</td>\n",
       "      <td>JPEG</td>\n",
       "      <td>T13004_8.jpg</td>\n",
       "      <td>183.0</td>\n",
       "      <td>53fedbacaa169b89843489a9d8dc5ea4</td>\n",
       "      <td>256.0</td>\n",
       "      <td>True</td>\n",
       "      <td>NaN</td>\n",
       "      <td>NaN</td>\n",
       "    </tr>\n",
       "    <tr>\n",
       "      <th>...</th>\n",
       "      <td>...</td>\n",
       "      <td>...</td>\n",
       "      <td>...</td>\n",
       "      <td>...</td>\n",
       "      <td>...</td>\n",
       "      <td>...</td>\n",
       "      <td>...</td>\n",
       "      <td>...</td>\n",
       "      <td>...</td>\n",
       "      <td>...</td>\n",
       "      <td>...</td>\n",
       "      <td>...</td>\n",
       "      <td>...</td>\n",
       "      <td>...</td>\n",
       "      <td>...</td>\n",
       "      <td>...</td>\n",
       "      <td>...</td>\n",
       "      <td>...</td>\n",
       "      <td>...</td>\n",
       "      <td>...</td>\n",
       "      <td>...</td>\n",
       "    </tr>\n",
       "    <tr>\n",
       "      <th>69196</th>\n",
       "      <td>Graphite on paper</td>\n",
       "      <td>support: 164 x 117 mm</td>\n",
       "      <td>Landscape with a River and Distant Town with a...</td>\n",
       "      <td>http://www.tate.org.uk/art/artworks/turner-lan...</td>\n",
       "      <td>Turner, Joseph Mallord William</td>\n",
       "      <td>D02533</td>\n",
       "      <td>artist</td>\n",
       "      <td>117.0</td>\n",
       "      <td>1856</td>\n",
       "      <td>164.0</td>\n",
       "      <td>...</td>\n",
       "      <td>NaN</td>\n",
       "      <td>image/jpeg</td>\n",
       "      <td>JPEG</td>\n",
       "      <td>D02533_8.jpg</td>\n",
       "      <td>190.0</td>\n",
       "      <td>cbadd29555b00e668bcb18923a6675c6</td>\n",
       "      <td>256.0</td>\n",
       "      <td>True</td>\n",
       "      <td>NaN</td>\n",
       "      <td>NaN</td>\n",
       "    </tr>\n",
       "    <tr>\n",
       "      <th>69197</th>\n",
       "      <td>Graphite on paper</td>\n",
       "      <td>support: 162 x 89 mm</td>\n",
       "      <td>(1) Stettin from the Oder; (2) Hills along a R...</td>\n",
       "      <td>http://www.tate.org.uk/art/artworks/turner-1-s...</td>\n",
       "      <td>Turner, Joseph Mallord William</td>\n",
       "      <td>D31106</td>\n",
       "      <td>artist</td>\n",
       "      <td>89.0</td>\n",
       "      <td>1856</td>\n",
       "      <td>162.0</td>\n",
       "      <td>...</td>\n",
       "      <td>NaN</td>\n",
       "      <td>image/jpeg</td>\n",
       "      <td>JPEG</td>\n",
       "      <td>D31106_8.jpg</td>\n",
       "      <td>155.0</td>\n",
       "      <td>431f45a507ec3bffe756312f1e45262a</td>\n",
       "      <td>256.0</td>\n",
       "      <td>True</td>\n",
       "      <td>NaN</td>\n",
       "      <td>NaN</td>\n",
       "    </tr>\n",
       "    <tr>\n",
       "      <th>69198</th>\n",
       "      <td>Graphite on paper</td>\n",
       "      <td>support: 171 x 111 mm</td>\n",
       "      <td>Mountains. Vigne [Turner] (near Arco)</td>\n",
       "      <td>http://www.tate.org.uk/art/artworks/turner-mou...</td>\n",
       "      <td>Turner, Joseph Mallord William</td>\n",
       "      <td>D31191</td>\n",
       "      <td>artist</td>\n",
       "      <td>111.0</td>\n",
       "      <td>1856</td>\n",
       "      <td>171.0</td>\n",
       "      <td>...</td>\n",
       "      <td>NaN</td>\n",
       "      <td>image/jpeg</td>\n",
       "      <td>JPEG</td>\n",
       "      <td>D31191_8.jpg</td>\n",
       "      <td>256.0</td>\n",
       "      <td>5281cc1558eb7d0f76f6fd5a75c1f496</td>\n",
       "      <td>163.0</td>\n",
       "      <td>True</td>\n",
       "      <td>NaN</td>\n",
       "      <td>NaN</td>\n",
       "    </tr>\n",
       "    <tr>\n",
       "      <th>69199</th>\n",
       "      <td>Ink on paper</td>\n",
       "      <td>NaN</td>\n",
       "      <td>[title not known]</td>\n",
       "      <td>http://www.tate.org.uk/art/artworks/jones-titl...</td>\n",
       "      <td>Jones, George</td>\n",
       "      <td>A00410</td>\n",
       "      <td>artist</td>\n",
       "      <td>NaN</td>\n",
       "      <td>1888</td>\n",
       "      <td>NaN</td>\n",
       "      <td>...</td>\n",
       "      <td>NaN</td>\n",
       "      <td>image/jpeg</td>\n",
       "      <td>JPEG</td>\n",
       "      <td>A00410_8.jpg</td>\n",
       "      <td>204.0</td>\n",
       "      <td>c8d6c28e81fc7f9b3160bf3ad82bc908</td>\n",
       "      <td>256.0</td>\n",
       "      <td>True</td>\n",
       "      <td>NaN</td>\n",
       "      <td>NaN</td>\n",
       "    </tr>\n",
       "    <tr>\n",
       "      <th>69200</th>\n",
       "      <td>Ink and watercolour on paper</td>\n",
       "      <td>NaN</td>\n",
       "      <td>[title not known]</td>\n",
       "      <td>http://www.tate.org.uk/art/artworks/jones-titl...</td>\n",
       "      <td>Jones, George</td>\n",
       "      <td>A00226</td>\n",
       "      <td>artist</td>\n",
       "      <td>NaN</td>\n",
       "      <td>1888</td>\n",
       "      <td>NaN</td>\n",
       "      <td>...</td>\n",
       "      <td>NaN</td>\n",
       "      <td>image/jpeg</td>\n",
       "      <td>JPEG</td>\n",
       "      <td>A00226_8.jpg</td>\n",
       "      <td>195.0</td>\n",
       "      <td>275d1d113dd040fea967587aef38e294</td>\n",
       "      <td>256.0</td>\n",
       "      <td>True</td>\n",
       "      <td>NaN</td>\n",
       "      <td>NaN</td>\n",
       "    </tr>\n",
       "  </tbody>\n",
       "</table>\n",
       "<p>69201 rows × 26 columns</p>\n",
       "</div>"
      ],
      "text/plain": [
       "                                                 medium  \\\n",
       "0             Photograph, gelatin silver print on paper   \n",
       "1              Graphite, chalk and watercolour on paper   \n",
       "2                                          Ink on paper   \n",
       "3           Graphite on paper. Verso: graphite on paper   \n",
       "4      Etching with paint, watercolour and ink on paper   \n",
       "...                                                 ...   \n",
       "69196                                 Graphite on paper   \n",
       "69197                                 Graphite on paper   \n",
       "69198                                 Graphite on paper   \n",
       "69199                                      Ink on paper   \n",
       "69200                      Ink and watercolour on paper   \n",
       "\n",
       "                   dimensions  \\\n",
       "0         image: 181 x 236 mm   \n",
       "1      support: 1213 x 804 mm   \n",
       "2        support: 53 x 102 mm   \n",
       "3        support: 109 x 75 mm   \n",
       "4       support: 257 x 184 mm   \n",
       "...                       ...   \n",
       "69196   support: 164 x 117 mm   \n",
       "69197    support: 162 x 89 mm   \n",
       "69198   support: 171 x 111 mm   \n",
       "69199                     NaN   \n",
       "69200                     NaN   \n",
       "\n",
       "                                                   title  \\\n",
       "0                               Photograph of Photograph   \n",
       "1                                               Untitled   \n",
       "2                                      [title not known]   \n",
       "3                    A Boy with a Stick. Verso: Sketches   \n",
       "4                            First Book of Urizen pl. 11   \n",
       "...                                                  ...   \n",
       "69196  Landscape with a River and Distant Town with a...   \n",
       "69197  (1) Stettin from the Oder; (2) Hills along a R...   \n",
       "69198              Mountains. Vigne [Turner] (near Arco)   \n",
       "69199                                  [title not known]   \n",
       "69200                                  [title not known]   \n",
       "\n",
       "                                                     url  \\\n",
       "0      http://www.tate.org.uk/art/artworks/takamatsu-...   \n",
       "1      http://www.tate.org.uk/art/artworks/winters-un...   \n",
       "2      http://www.tate.org.uk/art/artworks/dance-holl...   \n",
       "3      http://www.tate.org.uk/art/artworks/varley-a-b...   \n",
       "4      http://www.tate.org.uk/art/artworks/blake-firs...   \n",
       "...                                                  ...   \n",
       "69196  http://www.tate.org.uk/art/artworks/turner-lan...   \n",
       "69197  http://www.tate.org.uk/art/artworks/turner-1-s...   \n",
       "69198  http://www.tate.org.uk/art/artworks/turner-mou...   \n",
       "69199  http://www.tate.org.uk/art/artworks/jones-titl...   \n",
       "69200  http://www.tate.org.uk/art/artworks/jones-titl...   \n",
       "\n",
       "                               artist accession_number artistrole  height  \\\n",
       "0                     Takamatsu, Jiro           P80224     artist   236.0   \n",
       "1                      Winters, Terry           T04928     artist   804.0   \n",
       "2        Dance-Holland, Sir Nathaniel           T08333     artist   102.0   \n",
       "3                        Varley, John           T08709     artist    75.0   \n",
       "4                      Blake, William           T13004     artist   184.0   \n",
       "...                               ...              ...        ...     ...   \n",
       "69196  Turner, Joseph Mallord William           D02533     artist   117.0   \n",
       "69197  Turner, Joseph Mallord William           D31106     artist    89.0   \n",
       "69198  Turner, Joseph Mallord William           D31191     artist   111.0   \n",
       "69199                   Jones, George           A00410     artist     NaN   \n",
       "69200                   Jones, George           A00226     artist     NaN   \n",
       "\n",
       "      acquisitionyear   width  ...     inscription thumbnailurl.mimetype  \\\n",
       "0                2013   181.0  ...             NaN                   NaN   \n",
       "1                1987  1213.0  ...  date inscribed                   NaN   \n",
       "2                1996    53.0  ...             NaN            image/jpeg   \n",
       "3                1997   109.0  ...             NaN            image/jpeg   \n",
       "4                2010   257.0  ...             NaN            image/jpeg   \n",
       "...               ...     ...  ...             ...                   ...   \n",
       "69196            1856   164.0  ...             NaN            image/jpeg   \n",
       "69197            1856   162.0  ...             NaN            image/jpeg   \n",
       "69198            1856   171.0  ...             NaN            image/jpeg   \n",
       "69199            1888     NaN  ...             NaN            image/jpeg   \n",
       "69200            1888     NaN  ...             NaN            image/jpeg   \n",
       "\n",
       "      thumbnailurl.format thumbnailurl.filename thumbnailurl.width  \\\n",
       "0                     NaN                   NaN                NaN   \n",
       "1                     NaN                   NaN                NaN   \n",
       "2                    JPEG          T08333_8.jpg              256.0   \n",
       "3                    JPEG          T08709_8.jpg              177.0   \n",
       "4                    JPEG          T13004_8.jpg              183.0   \n",
       "...                   ...                   ...                ...   \n",
       "69196                JPEG          D02533_8.jpg              190.0   \n",
       "69197                JPEG          D31106_8.jpg              155.0   \n",
       "69198                JPEG          D31191_8.jpg              256.0   \n",
       "69199                JPEG          A00410_8.jpg              204.0   \n",
       "69200                JPEG          A00226_8.jpg              195.0   \n",
       "\n",
       "                        thumbnailurl.id thumbnailurl.height  \\\n",
       "0                                   NaN                 NaN   \n",
       "1                                   NaN                 NaN   \n",
       "2      09485ebb8755af7e18c9812e29e2af73               142.0   \n",
       "3      dc60cbde5eb9c73738ec0f0abc305c4e               256.0   \n",
       "4      53fedbacaa169b89843489a9d8dc5ea4               256.0   \n",
       "...                                 ...                 ...   \n",
       "69196  cbadd29555b00e668bcb18923a6675c6               256.0   \n",
       "69197  431f45a507ec3bffe756312f1e45262a               256.0   \n",
       "69198  5281cc1558eb7d0f76f6fd5a75c1f496               163.0   \n",
       "69199  c8d6c28e81fc7f9b3160bf3ad82bc908               256.0   \n",
       "69200  275d1d113dd040fea967587aef38e294               256.0   \n",
       "\n",
       "      thumbnailurl.thumbnail thumbnailcopyright depth  \n",
       "0                        NaN                NaN   NaN  \n",
       "1                        NaN                NaN   NaN  \n",
       "2                       True                NaN   NaN  \n",
       "3                       True                NaN   NaN  \n",
       "4                       True                NaN   NaN  \n",
       "...                      ...                ...   ...  \n",
       "69196                   True                NaN   NaN  \n",
       "69197                   True                NaN   NaN  \n",
       "69198                   True                NaN   NaN  \n",
       "69199                   True                NaN   NaN  \n",
       "69200                   True                NaN   NaN  \n",
       "\n",
       "[69201 rows x 26 columns]"
      ]
     },
     "execution_count": 5,
     "metadata": {},
     "output_type": "execute_result"
    }
   ],
   "source": [
    "df = json_normalize(df['fields'])\n",
    "df"
   ]
  },
  {
   "cell_type": "code",
   "execution_count": 6,
   "id": "amber-herald",
   "metadata": {},
   "outputs": [
    {
     "data": {
      "text/plain": [
       "5397"
      ]
     },
     "execution_count": 6,
     "metadata": {},
     "output_type": "execute_result"
    }
   ],
   "source": [
    "# dffields['year'].value_counts()\n",
    "df['year'].isna().sum()"
   ]
  },
  {
   "cell_type": "code",
   "execution_count": 7,
   "id": "pointed-bernard",
   "metadata": {},
   "outputs": [
    {
     "data": {
      "text/plain": [
       "45"
      ]
     },
     "execution_count": 7,
     "metadata": {},
     "output_type": "execute_result"
    }
   ],
   "source": [
    "df['acquisitionyear'].isna().sum()"
   ]
  },
  {
   "cell_type": "code",
   "execution_count": 8,
   "id": "tight-instrumentation",
   "metadata": {},
   "outputs": [],
   "source": [
    "# dropping NAs\n",
    "# train = dffields.dropna(how='any',axis=0)\n",
    "# train = dffields\n",
    "# train.dropna(subset = ['year', 'acquisitionyear'], inplace = True)\n",
    "# train.drop(train['acquisitionyear'].isna().index, inplace = True)\n",
    "# train.drop(train['year'].isna().index, inplace = True)"
   ]
  },
  {
   "cell_type": "code",
   "execution_count": 9,
   "id": "encouraging-stretch",
   "metadata": {},
   "outputs": [],
   "source": [
    "df['year'] = pd.to_numeric(df['year'])\n",
    "df['acquisitionyear'] = pd.to_numeric(df['acquisitionyear'])"
   ]
  },
  {
   "cell_type": "code",
   "execution_count": 10,
   "id": "thirty-alert",
   "metadata": {},
   "outputs": [
    {
     "data": {
      "text/plain": [
       "Text(0.5, 0, 'Year')"
      ]
     },
     "execution_count": 10,
     "metadata": {},
     "output_type": "execute_result"
    },
    {
     "data": {
      "image/png": "[encoded data removed]",
      "text/plain": [
       "<Figure size 432x288 with 1 Axes>"
      ]
     },
     "metadata": {
      "needs_background": "light"
     },
     "output_type": "display_data"
    }
   ],
   "source": [
    "ax = df[['year', 'acquisitionyear']].plot.kde()\n",
    "ax.set_xlabel(\"Year\")"
   ]
  },
  {
   "cell_type": "markdown",
   "id": "funded-halloween",
   "metadata": {},
   "source": [
    "#### Year of Artwork Creation versus Year Acquired by Tate Gallery"
   ]
  },
  {
   "cell_type": "code",
   "execution_count": 11,
   "id": "simplified-riverside",
   "metadata": {},
   "outputs": [
    {
     "data": {
      "image/png": "[encoded data removed]",
      "text/plain": [
       "<Figure size 432x288 with 1 Axes>"
      ]
     },
     "metadata": {
      "needs_background": "light"
     },
     "output_type": "display_data"
    }
   ],
   "source": [
    "def round_sf(number, significant):\n",
    "    return round(number, significant - len(str(number)))\n",
    "\n",
    "min_ayear = int(df['acquisitionyear'].min());\n",
    "max_ayear = int(df['acquisitionyear'].max());\n",
    "diff = round_sf(max_ayear, 2) - round_sf(min_ayear, 2)\n",
    "\n",
    "temp_data = []\n",
    "temp_label = []\n",
    "\n",
    "temp_data.append(df['year'][df['acquisitionyear'].isna()])\n",
    "temp_label.append(\"NA\")\n",
    "for x in range(0, diff + 50, 50):\n",
    "    temp_data.append(df['year'][(df['acquisitionyear'] >= round_sf(max_ayear, 2) - x) \n",
    "                      & (df['acquisitionyear'] < round_sf(max_ayear, 2) - x + 50)])\n",
    "    if x != 0:\n",
    "        temp_label.append(str(round_sf(max_ayear, 2) - x) + ' - ' + \n",
    "                             str(round_sf(max_ayear, 2) - x + 50 - 1))\n",
    "    else:\n",
    "        temp_label.append(str(round_sf(max_ayear, 2) - x) + ' - ' + \n",
    "                             str(round_sf(max_ayear, 2) - x + 50))\n",
    "    \n",
    "\n",
    "plt.hist(temp_data, bins=50, stacked=True)\n",
    "plt.legend(temp_label, title = \"Year Artwork Acquired\")\n",
    "plt.xlabel(\"Year\")  \n",
    "plt.ylabel(\"Count of Artworks\")\n",
    "plt.show()"
   ]
  },
  {
   "cell_type": "markdown",
   "id": "equal-google",
   "metadata": {},
   "source": [
    "#### Pre-Tate Gallery Artwork Acqusition"
   ]
  },
  {
   "cell_type": "code",
   "execution_count": 12,
   "id": "found-treasure",
   "metadata": {},
   "outputs": [
    {
     "data": {
      "image/png": "[encoded data removed]",
      "text/plain": [
       "<Figure size 432x288 with 1 Axes>"
      ]
     },
     "metadata": {
      "needs_background": "light"
     },
     "output_type": "display_data"
    }
   ],
   "source": [
    "df['year'][df['year'] <= 1897].hist(\n",
    "        bins=30);\n",
    "plt.xlabel(\"Year\")  \n",
    "plt.ylabel(\"Count\")\n",
    "plt.show()"
   ]
  },
  {
   "cell_type": "code",
   "execution_count": 13,
   "id": "abstract-kelly",
   "metadata": {},
   "outputs": [
    {
     "data": {
      "text/plain": [
       "Turner, Joseph Mallord William    39046\n",
       "Daniell, William                    612\n",
       "Constable, John                     188\n",
       "Blake, William                      175\n",
       "Flaxman, John                       151\n",
       "                                  ...  \n",
       "Van Somer, Paul                       1\n",
       "Nattes, John Claude                   1\n",
       "Saint-Gaudens, Augustus               1\n",
       "Fitzgerald, John Anster               1\n",
       "Lemon, Arthur                         1\n",
       "Name: artist, Length: 748, dtype: int64"
      ]
     },
     "execution_count": 13,
     "metadata": {},
     "output_type": "execute_result"
    }
   ],
   "source": [
    "df['artist'][df['year'] <= 1897].value_counts(ascending=False)"
   ]
  },
  {
   "cell_type": "code",
   "execution_count": 14,
   "id": "swedish-commander",
   "metadata": {},
   "outputs": [
    {
     "data": {
      "text/plain": [
       "0.8892077156065679"
      ]
     },
     "execution_count": 14,
     "metadata": {},
     "output_type": "execute_result"
    }
   ],
   "source": [
    "df['artist'][df['year'] <= 1897].value_counts(ascending=False)[0] / df['artist'][df['year'] <= 1897].count()"
   ]
  },
  {
   "cell_type": "code",
   "execution_count": 15,
   "id": "ancient-collection",
   "metadata": {},
   "outputs": [
    {
     "data": {
      "image/png": "[encoded data removed]",
      "text/plain": [
       "<Figure size 432x288 with 1 Axes>"
      ]
     },
     "metadata": {
      "needs_background": "light"
     },
     "output_type": "display_data"
    }
   ],
   "source": [
    "plt.hist([df['year'][(df['year'] <= 1897) & (df['artist'] == \"Turner, Joseph Mallord William\")],\n",
    "         df['year'][(df['year'] <= 1897) & (df['artist'] != \"Turner, Joseph Mallord William\")]],\n",
    "          bins=30, stacked=True)\n",
    "plt.legend(['True', 'False'], title = \"Artwork by JMW Turner?\")\n",
    "plt.xlabel(\"Year\")  \n",
    "plt.ylabel(\"Count\")\n",
    "plt.show()"
   ]
  },
  {
   "cell_type": "code",
   "execution_count": 16,
   "id": "cubic-settlement",
   "metadata": {},
   "outputs": [
    {
     "data": {
      "image/png": "[encoded data removed]",
      "text/plain": [
       "<Figure size 432x288 with 1 Axes>"
      ]
     },
     "metadata": {
      "needs_background": "light"
     },
     "output_type": "display_data"
    }
   ],
   "source": [
    "temp_data = []\n",
    "temp_label = []\n",
    "\n",
    "temp_data.append(df['year'][(df['acquisitionyear'].isna())\n",
    "                            & (df['artist'] == \"Turner, Joseph Mallord William\")])\n",
    "temp_label.append(\"NA\")\n",
    "for x in range(0, diff + 50, 50):\n",
    "    temp_data.append(df['year'][((df['acquisitionyear'] >= round_sf(max_ayear, 2) - x) \n",
    "                      & (df['acquisitionyear'] < round_sf(max_ayear, 2) - x + 50))\n",
    "                        & (df['artist'] == \"Turner, Joseph Mallord William\")])\n",
    "    if x != 0:\n",
    "        temp_label.append(str(round_sf(max_ayear, 2) - x) + ' - ' + \n",
    "                             str(round_sf(max_ayear, 2) - x + 50 - 1))\n",
    "    else:\n",
    "        temp_label.append(str(round_sf(max_ayear, 2) - x) + ' - ' + \n",
    "                             str(round_sf(max_ayear, 2) - x + 50))\n",
    "    \n",
    "\n",
    "plt.hist(temp_data, bins=30, stacked=True)\n",
    "plt.legend(temp_label, title = \"Year Artwork Acquired\")\n",
    "plt.xlabel(\"Year\")  \n",
    "plt.ylabel(\"Count of Artworks\")\n",
    "plt.show()"
   ]
  },
  {
   "cell_type": "markdown",
   "id": "dense-mount",
   "metadata": {},
   "source": [
    "#### Aspect Ratio through Time"
   ]
  },
  {
   "cell_type": "code",
   "execution_count": 17,
   "id": "olive-procurement",
   "metadata": {},
   "outputs": [
    {
     "data": {
      "image/png": "[encoded data removed]",
      "text/plain": [
       "<Figure size 432x288 with 1 Axes>"
      ]
     },
     "metadata": {
      "needs_background": "light"
     },
     "output_type": "display_data"
    }
   ],
   "source": [
    "x = df['year']\n",
    "y = df['height'] / df['width']\n",
    "plt.xlabel(\"Year\")  \n",
    "plt.ylabel(\"Aspect Ratio\")\n",
    "plt.scatter(x, y);"
   ]
  },
  {
   "cell_type": "code",
   "execution_count": 18,
   "id": "modified-approval",
   "metadata": {},
   "outputs": [
    {
     "data": {
      "text/html": [
       "<div>\n",
       "<style scoped>\n",
       "    .dataframe tbody tr th:only-of-type {\n",
       "        vertical-align: middle;\n",
       "    }\n",
       "\n",
       "    .dataframe tbody tr th {\n",
       "        vertical-align: top;\n",
       "    }\n",
       "\n",
       "    .dataframe thead th {\n",
       "        text-align: right;\n",
       "    }\n",
       "</style>\n",
       "<table border=\"1\" class=\"dataframe\">\n",
       "  <thead>\n",
       "    <tr style=\"text-align: right;\">\n",
       "      <th></th>\n",
       "      <th>medium</th>\n",
       "      <th>dimensions</th>\n",
       "      <th>title</th>\n",
       "      <th>url</th>\n",
       "      <th>artist</th>\n",
       "      <th>accession_number</th>\n",
       "      <th>artistrole</th>\n",
       "      <th>height</th>\n",
       "      <th>acquisitionyear</th>\n",
       "      <th>width</th>\n",
       "      <th>...</th>\n",
       "      <th>inscription</th>\n",
       "      <th>thumbnailurl.mimetype</th>\n",
       "      <th>thumbnailurl.format</th>\n",
       "      <th>thumbnailurl.filename</th>\n",
       "      <th>thumbnailurl.width</th>\n",
       "      <th>thumbnailurl.id</th>\n",
       "      <th>thumbnailurl.height</th>\n",
       "      <th>thumbnailurl.thumbnail</th>\n",
       "      <th>thumbnailcopyright</th>\n",
       "      <th>depth</th>\n",
       "    </tr>\n",
       "  </thead>\n",
       "  <tbody>\n",
       "    <tr>\n",
       "      <th>29883</th>\n",
       "      <td>Steel</td>\n",
       "      <td>unconfirmed: 10 x 37500 x 10 mm</td>\n",
       "      <td>[diameter]1 x 3750</td>\n",
       "      <td>http://www.tate.org.uk/art/artworks/balka-diam...</td>\n",
       "      <td>Balka, Miroslaw</td>\n",
       "      <td>T07064</td>\n",
       "      <td>artist</td>\n",
       "      <td>37500.0</td>\n",
       "      <td>1996.0</td>\n",
       "      <td>10.0</td>\n",
       "      <td>...</td>\n",
       "      <td>NaN</td>\n",
       "      <td>image/jpeg</td>\n",
       "      <td>JPEG</td>\n",
       "      <td>T07064_8.jpg</td>\n",
       "      <td>256.0</td>\n",
       "      <td>b78de1fcdad060509b5b4e2e183671b6</td>\n",
       "      <td>192.0</td>\n",
       "      <td>True</td>\n",
       "      <td>© Miroslaw Balka</td>\n",
       "      <td>10</td>\n",
       "    </tr>\n",
       "  </tbody>\n",
       "</table>\n",
       "<p>1 rows × 26 columns</p>\n",
       "</div>"
      ],
      "text/plain": [
       "      medium                       dimensions               title  \\\n",
       "29883  Steel  unconfirmed: 10 x 37500 x 10 mm  [diameter]1 x 3750   \n",
       "\n",
       "                                                     url           artist  \\\n",
       "29883  http://www.tate.org.uk/art/artworks/balka-diam...  Balka, Miroslaw   \n",
       "\n",
       "      accession_number artistrole   height  acquisitionyear  width  ...  \\\n",
       "29883           T07064     artist  37500.0           1996.0   10.0  ...   \n",
       "\n",
       "       inscription thumbnailurl.mimetype  thumbnailurl.format  \\\n",
       "29883          NaN            image/jpeg                 JPEG   \n",
       "\n",
       "      thumbnailurl.filename thumbnailurl.width  \\\n",
       "29883          T07064_8.jpg              256.0   \n",
       "\n",
       "                        thumbnailurl.id thumbnailurl.height  \\\n",
       "29883  b78de1fcdad060509b5b4e2e183671b6               192.0   \n",
       "\n",
       "      thumbnailurl.thumbnail thumbnailcopyright depth  \n",
       "29883                   True   © Miroslaw Balka    10  \n",
       "\n",
       "[1 rows x 26 columns]"
      ]
     },
     "execution_count": 18,
     "metadata": {},
     "output_type": "execute_result"
    }
   ],
   "source": [
    "df[df['height'] / df['width'] > 3000]"
   ]
  },
  {
   "cell_type": "code",
   "execution_count": 28,
   "id": "hispanic-harris",
   "metadata": {},
   "outputs": [
    {
     "name": "stderr",
     "output_type": "stream",
     "text": [
      "<ipython-input-28-c269430a787f>:5: SettingWithCopyWarning: \n",
      "A value is trying to be set on a copy of a slice from a DataFrame.\n",
      "Try using .loc[row_indexer,col_indexer] = value instead\n",
      "\n",
      "See the caveats in the documentation: https://pandas.pydata.org/pandas-docs/stable/user_guide/indexing.html#returning-a-view-versus-a-copy\n",
      "  temp_is_m['aspect_ratio'] = temp_is_m['height'] / temp_is_m['width']\n"
     ]
    },
    {
     "data": {
      "image/png": "[encoded data removed]",
      "text/plain": [
       "<Figure size 432x288 with 1 Axes>"
      ]
     },
     "metadata": {
      "needs_background": "light"
     },
     "output_type": "display_data"
    }
   ],
   "source": [
    "temp_df = df[['height', 'width', 'year']]\n",
    "temp_is_m = temp_df[temp_df['year'] >= 1950]\n",
    "temp_not_m = temp_df[temp_df['year'] < 1950]\n",
    "\n",
    "temp_is_m['aspect_ratio'] = temp_is_m['height'] / temp_is_m['width']\n",
    "plt.xlabel(\"Year\")  \n",
    "plt.ylabel(\"Aspect Ratio\")\n",
    "plt.scatter(temp_is_m['year'], temp_is_m['aspect_ratio']);"
   ]
  },
  {
   "cell_type": "code",
   "execution_count": 32,
   "id": "smoking-child",
   "metadata": {},
   "outputs": [
    {
     "name": "stderr",
     "output_type": "stream",
     "text": [
      "C:\\Users\\COLO\\anaconda3\\lib\\site-packages\\IPython\\core\\pylabtools.py:132: UserWarning: Creating legend with loc=\"best\" can be slow with large amounts of data.\n",
      "  fig.canvas.print_figure(bytes_io, **kw)\n"
     ]
    },
    {
     "data": {
      "image/png": "[encoded data removed]",
      "text/plain": [
       "<Figure size 432x288 with 1 Axes>"
      ]
     },
     "metadata": {
      "needs_background": "light"
     },
     "output_type": "display_data"
    }
   ],
   "source": [
    "fig, ax = plt.subplots()\n",
    "temp_is_m = temp_df[temp_df['year'] >= 1950]\n",
    "temp_not_m = temp_df[temp_df['year'] < 1950]\n",
    "\n",
    "# Post Modern\n",
    "for x in range(temp_is_m.shape[0]):\n",
    "    rect = patches.Rectangle((0, 0), temp_is_m['width'].iloc[x], temp_is_m['height'].iloc[x], \n",
    "                         linewidth=1, edgecolor='b', facecolor='none', alpha = 0.6)\n",
    "    ax.add_patch(rect)\n",
    "\n",
    "# Pre Modern\n",
    "for x in range(temp_not_m.shape[0]):\n",
    "    rect = patches.Rectangle((0, 0), temp_not_m['width'].iloc[x], temp_not_m['height'].iloc[x], \n",
    "                         linewidth=1, edgecolor='r', facecolor='none', alpha = 0.6)\n",
    "    ax.add_patch(rect)\n",
    "    \n",
    "ax.set_ylim(-100, round_sf(int(temp_df['height'].max()), 2))\n",
    "ax.set_xlim(-100, round_sf(int(temp_df['width'].max()), 2))\n",
    "plt.legend([\"No\", \"Yes\"], title = \"Post Modern?\")\n",
    "leg = ax.get_legend()\n",
    "leg.legendHandles[0].set_color('r')\n",
    "leg.legendHandles[1].set_color('b')\n",
    "plt.xlabel(\"Width\")  \n",
    "plt.ylabel(\"Height\")\n",
    "plt.show()"
   ]
  },
  {
   "cell_type": "code",
   "execution_count": null,
   "id": "analyzed-oriental",
   "metadata": {},
   "outputs": [],
   "source": []
  }
 ],
 "metadata": {
  "kernelspec": {
   "display_name": "Python 3",
   "language": "python",
   "name": "python3"
  },
  "language_info": {
   "codemirror_mode": {
    "name": "ipython",
    "version": 3
   },
   "file_extension": ".py",
   "mimetype": "text/x-python",
   "name": "python",
   "nbconvert_exporter": "python",
   "pygments_lexer": "ipython3",
   "version": "3.8.5"
  }
 },
 "nbformat": 4,
 "nbformat_minor": 5
}
