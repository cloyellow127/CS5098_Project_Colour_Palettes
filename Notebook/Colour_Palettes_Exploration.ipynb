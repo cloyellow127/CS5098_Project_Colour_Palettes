{
 "cells": [
  {
   "cell_type": "code",
   "execution_count": 88,
   "id": "animal-processing",
   "metadata": {
    "scrolled": false
   },
   "outputs": [],
   "source": [
    "import pandas as pd\n",
    "import numpy as np\n",
    "from PIL import Image\n",
    "import os\n",
    "from os import path\n",
    "from pathlib import Path\n",
    "import sys\n",
    "import plotly.graph_objects as go\n",
    "import matplotlib.pyplot as plt\n",
    "import cv2\n",
    "import webcolors\n",
    "from mpl_toolkits.mplot3d import Axes3D\n",
    "from matplotlib import cm\n",
    "from matplotlib import colors\n",
    "from skimage.io import imshow, imread\n",
    "from skimage.color import rgb2hsv, hsv2rgb\n",
    "import ipywidgets as widgets\n",
    "from ipywidgets import interact, interact_manual\n",
    "from IPython.display import clear_output\n",
    "from IPython.display import display, HTML\n",
    "sys.path.append(path.abspath('../MSc-CS-Project---ColourPaletteExtractor-master/'))\n",
    "from colourpaletteextractor.model import model"
   ]
  },
  {
   "cell_type": "markdown",
   "id": "100fd125",
   "metadata": {},
   "source": [
    "### Choose directory of images you want to analsye here"
   ]
  },
  {
   "cell_type": "code",
   "execution_count": 24,
   "id": "5b517708",
   "metadata": {},
   "outputs": [
    {
     "data": {
      "application/vnd.jupyter.widget-view+json": {
       "model_id": "fe243c0cd554456aa99c1b79623be948",
       "version_major": 2,
       "version_minor": 0
      },
      "text/plain": [
       "interactive(children=(Dropdown(description='folder', options=('joseph_Mallord_william_turner', 'LICENSE', 'MSc…"
      ]
     },
     "metadata": {},
     "output_type": "display_data"
    }
   ],
   "source": [
    "foldername = ''\n",
    "@interact\n",
    "def choose_img_folder(folder = [f for f in os.listdir('../') if '.' not in f]):\n",
    "    global foldername\n",
    "    foldername = folder"
   ]
  },
  {
   "cell_type": "code",
   "execution_count": 37,
   "id": "c78cc99f",
   "metadata": {},
   "outputs": [
    {
     "data": {
      "text/html": [
       "<div>\n",
       "<style scoped>\n",
       "    .dataframe tbody tr th:only-of-type {\n",
       "        vertical-align: middle;\n",
       "    }\n",
       "\n",
       "    .dataframe tbody tr th {\n",
       "        vertical-align: top;\n",
       "    }\n",
       "\n",
       "    .dataframe thead th {\n",
       "        text-align: right;\n",
       "    }\n",
       "</style>\n",
       "<table border=\"1\" class=\"dataframe\">\n",
       "  <thead>\n",
       "    <tr style=\"text-align: right;\">\n",
       "      <th></th>\n",
       "      <th>Title</th>\n",
       "      <th>Artist</th>\n",
       "      <th>Creation_Date</th>\n",
       "      <th>estimate_year</th>\n",
       "      <th>url</th>\n",
       "      <th>img_URL</th>\n",
       "      <th>Medium</th>\n",
       "      <th>height_cm</th>\n",
       "      <th>width_cm</th>\n",
       "      <th>Accession_number</th>\n",
       "    </tr>\n",
       "  </thead>\n",
       "  <tbody>\n",
       "    <tr>\n",
       "      <th>0</th>\n",
       "      <td>Barra</td>\n",
       "      <td>Samuel John Peploe</td>\n",
       "      <td>c.1902–1903</td>\n",
       "      <td>1902.0</td>\n",
       "      <td>https://artuk.org/discover/artworks/barra-8563...</td>\n",
       "      <td>https://d3d00swyhr67nd.cloudfront.net/w250/col...</td>\n",
       "      <td>oil on panel</td>\n",
       "      <td>18.7</td>\n",
       "      <td>24.1</td>\n",
       "      <td>3039</td>\n",
       "    </tr>\n",
       "    <tr>\n",
       "      <th>1</th>\n",
       "      <td>Old Tom Morris</td>\n",
       "      <td>Samuel John Peploe</td>\n",
       "      <td>c.1901</td>\n",
       "      <td>1901.0</td>\n",
       "      <td>https://artuk.org/discover/artworks/old-tom-mo...</td>\n",
       "      <td>https://d3d00swyhr67nd.cloudfront.net/w250/col...</td>\n",
       "      <td>oil on canvas</td>\n",
       "      <td>127.0</td>\n",
       "      <td>101.6</td>\n",
       "      <td>3313</td>\n",
       "    </tr>\n",
       "    <tr>\n",
       "      <th>2</th>\n",
       "      <td>Roses</td>\n",
       "      <td>Samuel John Peploe</td>\n",
       "      <td>NaN</td>\n",
       "      <td>NaN</td>\n",
       "      <td>https://artuk.org/discover/artworks/roses-5661...</td>\n",
       "      <td>https://d3d00swyhr67nd.cloudfront.net/w250/col...</td>\n",
       "      <td>oil on board</td>\n",
       "      <td>44.0</td>\n",
       "      <td>39.0</td>\n",
       "      <td>MIDMA_FA_1029</td>\n",
       "    </tr>\n",
       "    <tr>\n",
       "      <th>3</th>\n",
       "      <td>Roses</td>\n",
       "      <td>Samuel John Peploe</td>\n",
       "      <td>c.1920</td>\n",
       "      <td>1920.0</td>\n",
       "      <td>https://artuk.org/discover/artworks/roses-8563...</td>\n",
       "      <td>https://d3d00swyhr67nd.cloudfront.net/w250/col...</td>\n",
       "      <td>oil on canvas</td>\n",
       "      <td>50.8</td>\n",
       "      <td>40.6</td>\n",
       "      <td>2810</td>\n",
       "    </tr>\n",
       "    <tr>\n",
       "      <th>4</th>\n",
       "      <td>Landscape</td>\n",
       "      <td>Samuel John Peploe</td>\n",
       "      <td>NaN</td>\n",
       "      <td>NaN</td>\n",
       "      <td>https://artuk.org/discover/artworks/landscape-...</td>\n",
       "      <td>https://d3d00swyhr67nd.cloudfront.net/w250/col...</td>\n",
       "      <td>oil on canvas</td>\n",
       "      <td>33.0</td>\n",
       "      <td>40.6</td>\n",
       "      <td>2338</td>\n",
       "    </tr>\n",
       "    <tr>\n",
       "      <th>...</th>\n",
       "      <td>...</td>\n",
       "      <td>...</td>\n",
       "      <td>...</td>\n",
       "      <td>...</td>\n",
       "      <td>...</td>\n",
       "      <td>...</td>\n",
       "      <td>...</td>\n",
       "      <td>...</td>\n",
       "      <td>...</td>\n",
       "      <td>...</td>\n",
       "    </tr>\n",
       "    <tr>\n",
       "      <th>195</th>\n",
       "      <td>Tulips in a Pottery Vase</td>\n",
       "      <td>Samuel John Peploe</td>\n",
       "      <td>c.1912</td>\n",
       "      <td>1912.0</td>\n",
       "      <td>https://artuk.org/discover/artworks/tulips-in-...</td>\n",
       "      <td>https://d3d00swyhr67nd.cloudfront.net/w250/col...</td>\n",
       "      <td>oil on canvas</td>\n",
       "      <td>45.6</td>\n",
       "      <td>40.7</td>\n",
       "      <td>GLAHA_41371</td>\n",
       "    </tr>\n",
       "    <tr>\n",
       "      <th>196</th>\n",
       "      <td>Bathers (Étaples)</td>\n",
       "      <td>Samuel John Peploe</td>\n",
       "      <td>1906</td>\n",
       "      <td>1906.0</td>\n",
       "      <td>https://artuk.org/discover/artworks/bathers-ta...</td>\n",
       "      <td>NaN</td>\n",
       "      <td>oil on canvas laid on board</td>\n",
       "      <td>18.2</td>\n",
       "      <td>23.8</td>\n",
       "      <td>GLAHA_43999</td>\n",
       "    </tr>\n",
       "    <tr>\n",
       "      <th>197</th>\n",
       "      <td>Clouds and Sky, Iona</td>\n",
       "      <td>Samuel John Peploe</td>\n",
       "      <td>1928</td>\n",
       "      <td>1928.0</td>\n",
       "      <td>https://artuk.org/discover/artworks/clouds-and...</td>\n",
       "      <td>NaN</td>\n",
       "      <td>oil on canvas</td>\n",
       "      <td>40.7</td>\n",
       "      <td>45.7</td>\n",
       "      <td>GLAHA_43996</td>\n",
       "    </tr>\n",
       "    <tr>\n",
       "      <th>198</th>\n",
       "      <td>New Abbey, Dumfriesshire (Summer)</td>\n",
       "      <td>Samuel John Peploe</td>\n",
       "      <td>1926</td>\n",
       "      <td>1926.0</td>\n",
       "      <td>https://artuk.org/discover/artworks/new-abbey-...</td>\n",
       "      <td>NaN</td>\n",
       "      <td>oil on canvas</td>\n",
       "      <td>56.2</td>\n",
       "      <td>76.1</td>\n",
       "      <td>GLAHA_44001</td>\n",
       "    </tr>\n",
       "    <tr>\n",
       "      <th>199</th>\n",
       "      <td>Cyclamen in Pot</td>\n",
       "      <td>Samuel John Peploe</td>\n",
       "      <td>NaN</td>\n",
       "      <td>NaN</td>\n",
       "      <td>https://artuk.org/discover/artworks/cyclamen-i...</td>\n",
       "      <td>NaN</td>\n",
       "      <td>oil on canvas</td>\n",
       "      <td>49.5</td>\n",
       "      <td>39.4</td>\n",
       "      <td>DGDET 226D_V</td>\n",
       "    </tr>\n",
       "  </tbody>\n",
       "</table>\n",
       "<p>200 rows × 10 columns</p>\n",
       "</div>"
      ],
      "text/plain": [
       "                                 Title              Artist Creation_Date  \\\n",
       "0                                Barra  Samuel John Peploe   c.1902–1903   \n",
       "1                       Old Tom Morris  Samuel John Peploe        c.1901   \n",
       "2                                Roses  Samuel John Peploe           NaN   \n",
       "3                                Roses  Samuel John Peploe        c.1920   \n",
       "4                            Landscape  Samuel John Peploe           NaN   \n",
       "..                                 ...                 ...           ...   \n",
       "195           Tulips in a Pottery Vase  Samuel John Peploe        c.1912   \n",
       "196                  Bathers (Étaples)  Samuel John Peploe          1906   \n",
       "197               Clouds and Sky, Iona  Samuel John Peploe          1928   \n",
       "198  New Abbey, Dumfriesshire (Summer)  Samuel John Peploe          1926   \n",
       "199                    Cyclamen in Pot  Samuel John Peploe           NaN   \n",
       "\n",
       "     estimate_year                                                url  \\\n",
       "0           1902.0  https://artuk.org/discover/artworks/barra-8563...   \n",
       "1           1901.0  https://artuk.org/discover/artworks/old-tom-mo...   \n",
       "2              NaN  https://artuk.org/discover/artworks/roses-5661...   \n",
       "3           1920.0  https://artuk.org/discover/artworks/roses-8563...   \n",
       "4              NaN  https://artuk.org/discover/artworks/landscape-...   \n",
       "..             ...                                                ...   \n",
       "195         1912.0  https://artuk.org/discover/artworks/tulips-in-...   \n",
       "196         1906.0  https://artuk.org/discover/artworks/bathers-ta...   \n",
       "197         1928.0  https://artuk.org/discover/artworks/clouds-and...   \n",
       "198         1926.0  https://artuk.org/discover/artworks/new-abbey-...   \n",
       "199            NaN  https://artuk.org/discover/artworks/cyclamen-i...   \n",
       "\n",
       "                                               img_URL  \\\n",
       "0    https://d3d00swyhr67nd.cloudfront.net/w250/col...   \n",
       "1    https://d3d00swyhr67nd.cloudfront.net/w250/col...   \n",
       "2    https://d3d00swyhr67nd.cloudfront.net/w250/col...   \n",
       "3    https://d3d00swyhr67nd.cloudfront.net/w250/col...   \n",
       "4    https://d3d00swyhr67nd.cloudfront.net/w250/col...   \n",
       "..                                                 ...   \n",
       "195  https://d3d00swyhr67nd.cloudfront.net/w250/col...   \n",
       "196                                                NaN   \n",
       "197                                                NaN   \n",
       "198                                                NaN   \n",
       "199                                                NaN   \n",
       "\n",
       "                          Medium  height_cm  width_cm Accession_number  \n",
       "0                   oil on panel       18.7      24.1             3039  \n",
       "1                  oil on canvas      127.0     101.6             3313  \n",
       "2                   oil on board       44.0      39.0    MIDMA_FA_1029  \n",
       "3                  oil on canvas       50.8      40.6             2810  \n",
       "4                  oil on canvas       33.0      40.6             2338  \n",
       "..                           ...        ...       ...              ...  \n",
       "195                oil on canvas       45.6      40.7      GLAHA_41371  \n",
       "196  oil on canvas laid on board       18.2      23.8      GLAHA_43999  \n",
       "197                oil on canvas       40.7      45.7      GLAHA_43996  \n",
       "198                oil on canvas       56.2      76.1      GLAHA_44001  \n",
       "199                oil on canvas       49.5      39.4     DGDET 226D_V  \n",
       "\n",
       "[200 rows x 10 columns]"
      ]
     },
     "execution_count": 37,
     "metadata": {},
     "output_type": "execute_result"
    }
   ],
   "source": [
    "art_meta = pd.read_csv('../' + foldername + '.csv')\n",
    "art_colour = pd.read_csv('../' + foldername + '_colours.csv')\n",
    "# art_meta[art_meta['Accession_number'] == '700']\n",
    "art_meta"
   ]
  },
  {
   "cell_type": "code",
   "execution_count": 38,
   "id": "714296e6",
   "metadata": {},
   "outputs": [
    {
     "data": {
      "application/vnd.jupyter.widget-view+json": {
       "model_id": "19c6decd137042bab332df135c4a4a50",
       "version_major": 2,
       "version_minor": 0
      },
      "text/plain": [
       "interactive(children=(Dropdown(description='image', options=('0. Barra', '1. Old Tom Morris', '2. Roses', '3. …"
      ]
     },
     "metadata": {},
     "output_type": "display_data"
    }
   ],
   "source": [
    "def colour_palette_to_tuple_rgba(row):\n",
    "    templist = []\n",
    "    for i in range(3):\n",
    "        if row[i] < 0:\n",
    "            templist.append(256 + row[i])\n",
    "        else:\n",
    "            templist.append(row[i])\n",
    "    return (templist[0] / 255, templist[1] / 255, templist[2] / 255)\n",
    "\n",
    "def colour_palette_to_positive(row):\n",
    "    templist = []\n",
    "    for i in range(3):\n",
    "        if row[i] < 0:\n",
    "            templist.append(256 + row[i])\n",
    "        else:\n",
    "            templist.append(row[i])\n",
    "    return (templist[0], templist[1], templist[2])\n",
    "\n",
    "def colour_palette_to_positive_int(row):\n",
    "    templist = []\n",
    "    for i in range(3):\n",
    "        if row[i] < 0:\n",
    "            templist.append(256 + row[i])\n",
    "        else:\n",
    "            templist.append(row[i])\n",
    "    return (int(templist[0]), int(templist[1]), int(templist[2]))\n",
    "\n",
    "def show_color_pie(num):\n",
    "    Tasks = art_colour[art_colour[\"id\"] == num][\"freqency\"].values.tolist()\n",
    "    col = art_colour[art_colour[\"id\"] == num][['R', 'G', 'B']].values.tolist()\n",
    "    my_labels = [colour_palette_to_positive(col[i]) for i in range(len(col))]\n",
    "    plt.figure(figsize=(30, 30))\n",
    "    plt.pie(Tasks, labels = my_labels, \n",
    "            colors = [colour_palette_to_tuple_rgba(col[i]) for i in range(len(col))],\n",
    "           autopct = '%1.0f%%',\n",
    "        textprops={'fontsize': 30}\n",
    "           )\n",
    "    plt.title('Colour Palettes', fontsize=50)\n",
    "    plt.axis('equal')\n",
    "\n",
    "@interact\n",
    "def show_img_and_pie(image = [str(n) + \". \" for n in range(len(art_meta))] + art_meta[\"Title\"]):\n",
    "    num = int(image.split('.')[0])\n",
    "    image = cv2.imread(\"../\" + foldername + \"/\" + str(art_meta[\"Accession_number\"][num]) + \".jpg\")\n",
    "    image = cv2.cvtColor(image, cv2.COLOR_BGR2RGB)\n",
    "    plt.figure(figsize=(5, 5))\n",
    "    imshow(image);\n",
    "    show_color_pie(num)\n",
    "    plt.show()"
   ]
  },
  {
   "cell_type": "code",
   "execution_count": 89,
   "id": "808c2e6e",
   "metadata": {},
   "outputs": [
    {
     "data": {
      "application/vnd.jupyter.widget-view+json": {
       "model_id": "8d30f01a43484adcbafbde2e86b13bb2",
       "version_major": 2,
       "version_minor": 0
      },
      "text/plain": [
       "interactive(children=(Dropdown(description='image', options=('0. Barra', '1. Old Tom Morris', '2. Roses', '3. …"
      ]
     },
     "metadata": {},
     "output_type": "display_data"
    }
   ],
   "source": [
    "@interact\n",
    "def show_img_and_3dRGB(image = [str(n) + \". \" for n in range(len(art_meta))] + art_meta[\"Title\"]):\n",
    "#     clear_output(wait=True)\n",
    "    num = int(image.split('.')[0])\n",
    "    image = cv2.imread(\"../\" + foldername + \"/\" + str(art_meta[\"Accession_number\"][num]) + \".jpg\")\n",
    "    image = cv2.cvtColor(image, cv2.COLOR_BGR2RGB)\n",
    "    plt.figure(figsize=(5, 5))\n",
    "    imshow(image);\n",
    "    \n",
    "    r, g, b = cv2.split(image)\n",
    "    fig = plt.figure(figsize=(10, 10))\n",
    "    axis = fig.add_subplot(1, 1, 1, projection=\"3d\")\n",
    "    pixel_colors = image.reshape((np.shape(image)[0]*np.shape(image)[1], 3))\n",
    "    norm = colors.Normalize(vmin=-1.,vmax=1.)\n",
    "    norm.autoscale(pixel_colors)\n",
    "    pixel_colors = norm(pixel_colors).tolist()\n",
    "    axis.scatter(r.flatten(), g.flatten(), b.flatten(), facecolors = pixel_colors, marker=\".\")\n",
    "    axis.set_xlabel(\"Red\")\n",
    "    axis.set_ylabel(\"Green\")\n",
    "    axis.set_zlabel(\"Blue\")\n",
    "    \n",
    "    plt.show()"
   ]
  },
  {
   "cell_type": "code",
   "execution_count": 90,
   "id": "f6063e88",
   "metadata": {},
   "outputs": [
    {
     "data": {
      "application/vnd.jupyter.widget-view+json": {
       "model_id": "3a353db50263470f8d21426fe0f82824",
       "version_major": 2,
       "version_minor": 0
      },
      "text/plain": [
       "interactive(children=(Dropdown(description='image', options=('0. Barra', '1. Old Tom Morris', '2. Roses', '3. …"
      ]
     },
     "metadata": {},
     "output_type": "display_data"
    }
   ],
   "source": [
    "def hue_sat_3d(number):\n",
    "    img = cv2.imread(\"../\" + foldername + \"/\" + str(art_meta[\"Accession_number\"][number]) + \".jpg\")\n",
    "    img = cv2.cvtColor(img, cv2.COLOR_BGR2RGB)\n",
    "    hsv_img = cv2.cvtColor(img, cv2.COLOR_RGB2HSV)\n",
    "    h, s, v = cv2.split(hsv_img)\n",
    "    \n",
    "    pixel_colors = img.reshape((np.shape(img)[0]*np.shape(img)[1], 3))\n",
    "    norm = colors.Normalize(vmin=-1.,vmax=1.)\n",
    "    norm.autoscale(pixel_colors)\n",
    "    pixel_colors = norm(pixel_colors).tolist()\n",
    "    \n",
    "    fig = plt.figure(figsize=(15, 15))\n",
    "    axis = fig.add_subplot(1, 1, 1, projection=\"3d\")\n",
    "    axis.scatter(h.flatten(), s.flatten(), v.flatten(), facecolors = pixel_colors, marker=\".\")\n",
    "    axis.set_xlabel(\"Hue\")\n",
    "    axis.set_ylabel(\"Saturation\")\n",
    "    axis.set_zlabel(\"Value\")\n",
    "    plt.show()\n",
    "\n",
    "@interact\n",
    "def show_img_and_3dHSV(image = [str(n) + \". \" for n in range(len(art_meta))] + art_meta[\"Title\"]):\n",
    "    num = int(image.split('.')[0])\n",
    "    image = cv2.imread(\"../\" + foldername + \"/\" + str(art_meta[\"Accession_number\"][num]) + \".jpg\")\n",
    "    image = cv2.cvtColor(image, cv2.COLOR_BGR2RGB)\n",
    "    plt.figure(figsize=(5, 5))\n",
    "    imshow(image);\n",
    "    hue_sat_3d(num)\n",
    "    plt.show()"
   ]
  },
  {
   "cell_type": "code",
   "execution_count": 92,
   "id": "af377a71",
   "metadata": {},
   "outputs": [],
   "source": [
    "hsv_csv = pd.DataFrame(columns = ['Hue', 'Saturation', 'Value'])\n",
    "def hue_sat_value_csv(number):\n",
    "    img = cv2.imread(\"../\" + foldername + \"/\" + str(art_meta[\"Accession_number\"][number]) + \".jpg\")\n",
    "    img = cv2.cvtColor(img, cv2.COLOR_BGR2RGB)\n",
    "    hsv_img = cv2.cvtColor(img, cv2.COLOR_RGB2HSV)\n",
    "    h, s, v = cv2.split(hsv_img)\n",
    "    hsv_csv['Hue'] = pd.Series(h.flatten())\n",
    "    hsv_csv['Saturation'] = pd.Series(s.flatten())\n",
    "    hsv_csv['Value'] = pd.Series(v.flatten())"
   ]
  },
  {
   "cell_type": "code",
   "execution_count": 93,
   "id": "2c0610b6",
   "metadata": {},
   "outputs": [],
   "source": [
    "hue_sat_value_csv(155)"
   ]
  },
  {
   "cell_type": "code",
   "execution_count": 94,
   "id": "b47bbddd",
   "metadata": {},
   "outputs": [
    {
     "data": {
      "text/plain": [
       "36.29344820554649"
      ]
     },
     "execution_count": 94,
     "metadata": {},
     "output_type": "execute_result"
    }
   ],
   "source": [
    "np.mean(hsv_csv[\"Hue\"])"
   ]
  },
  {
   "cell_type": "code",
   "execution_count": 95,
   "id": "656272d7",
   "metadata": {},
   "outputs": [
    {
     "data": {
      "application/vnd.jupyter.widget-view+json": {
       "model_id": "e060f28851ba495a9a09d26137907b9e",
       "version_major": 2,
       "version_minor": 0
      },
      "text/plain": [
       "interactive(children=(Dropdown(description='image', options=('0. Barra', '1. Old Tom Morris', '2. Roses', '3. …"
      ]
     },
     "metadata": {},
     "output_type": "display_data"
    }
   ],
   "source": [
    "@interact (r = (0, 255, 1), g = (0, 255,1), b = (0, 255,1))\n",
    "def filterRGB_img(image = [str(n) + \". \" for n in range(len(art_meta))] + art_meta[\"Title\"], \n",
    "                    r=0, g=0, b = 0,\n",
    "                 directory = widgets.Text(value='Rename_File_Here.jpg', disabled=False)):\n",
    "    num = int(image.split('.')[0])\n",
    "    img = imread(\"../\" + foldername + \"/\" + str(art_meta[\"Accession_number\"][num]) + \".jpg\")\n",
    "    img_filtered = (img[:,:,0] >= r) & (img[:,:,1] >= g) & (img[:,:,2] >= b)\n",
    "    plt.figure(num=None, figsize=(10, 10))\n",
    "    img_new = img.copy()\n",
    "    img_new[:, :, 0] = img_new[:, :, 0] * img_filtered\n",
    "    img_new[:, :, 1] = img_new[:, :, 1] * img_filtered\n",
    "    img_new[:, :, 2] = img_new[:, :, 2] * img_filtered\n",
    "    plt.imshow(img_new);\n",
    "    plt.show()\n",
    "    \n",
    "    def clicked(arg):\n",
    "        download_img = Image.fromarray(img_new, 'RGB')\n",
    "        download_img.save(directory)\n",
    "        print(\"saved\", end='\\r')\n",
    "    \n",
    "    save_button = widgets.Button(description = 'Save image')   \n",
    "    save_button.on_click(clicked)\n",
    "    display(save_button)"
   ]
  },
  {
   "cell_type": "code",
   "execution_count": 96,
   "id": "6cda523c",
   "metadata": {},
   "outputs": [
    {
     "data": {
      "application/vnd.jupyter.widget-view+json": {
       "model_id": "ea9360137ce148f78cc8b96d2e817704",
       "version_major": 2,
       "version_minor": 0
      },
      "text/plain": [
       "interactive(children=(Dropdown(description='image', options=('0. Barra', '1. Old Tom Morris', '2. Roses', '3. …"
      ]
     },
     "metadata": {},
     "output_type": "display_data"
    }
   ],
   "source": [
    "@interact\n",
    "def img_HSV(image = [str(n) + \". \" for n in range(len(art_meta))] + art_meta[\"Title\"],\n",
    "           option = [\"All\", 'Hue','Saturation','Value']):\n",
    "    num = int(image.split('.')[0])\n",
    "    img = cv2.imread(\"../\" + foldername + \"/\" + str(art_meta[\"Accession_number\"][num]) + \".jpg\")\n",
    "    img_hsv = cv2.cvtColor(img, cv2.COLOR_BGR2HSV)\n",
    "    if option == \"All\":\n",
    "        hsv_list = ['Hue','Saturation','Value']\n",
    "        fig, ax = plt.subplots(1, 3, figsize=(15,7), sharey = True)\n",
    "\n",
    "        ax[0].imshow(img_hsv[:,:,0], cmap = 'hsv')\n",
    "        ax[0].set_title(hsv_list[0], fontsize = 20)\n",
    "        ax[0].axis('off')\n",
    "\n",
    "        ax[1].imshow(img_hsv[:,:,1], cmap = 'Greys')\n",
    "        ax[1].set_title(hsv_list[1], fontsize = 20)\n",
    "        ax[1].axis('off')\n",
    "\n",
    "        ax[2].imshow(img_hsv[:,:,2], cmap = 'gray')\n",
    "        ax[2].set_title(hsv_list[2], fontsize = 20)\n",
    "        ax[2].axis('off')\n",
    "        \n",
    "        fig.tight_layout()\n",
    "        \n",
    "    elif option == \"Hue\":\n",
    "        plt.figure(num=None, figsize=(8, 6))\n",
    "        plt.imshow(img_hsv[:,:,0], cmap='hsv')\n",
    "        plt.colorbar()\n",
    "    \n",
    "    elif option == \"Saturation\":\n",
    "        plt.figure(num=None, figsize=(8, 6))\n",
    "        plt.imshow(img_hsv[:,:,1], cmap='Greys')\n",
    "        plt.colorbar()\n",
    "    \n",
    "    elif option == \"Value\":\n",
    "        plt.figure(num=None, figsize=(8, 6))\n",
    "        plt.imshow(img_hsv[:,:,2], cmap='gray')\n",
    "        plt.colorbar()\n",
    "    \n",
    "    plt.show()"
   ]
  },
  {
   "cell_type": "code",
   "execution_count": 97,
   "id": "abe8eb60",
   "metadata": {},
   "outputs": [
    {
     "data": {
      "application/vnd.jupyter.widget-view+json": {
       "model_id": "44fe6946200740b5a933d7f3a34f9134",
       "version_major": 2,
       "version_minor": 0
      },
      "text/plain": [
       "interactive(children=(Dropdown(description='image', options=('0. Barra', '1. Old Tom Morris', '2. Roses', '3. …"
      ]
     },
     "metadata": {},
     "output_type": "display_data"
    }
   ],
   "source": [
    "@interact (Saturation = (0, 255, 1))\n",
    "def img_HSV_filter(image = [str(n) + \". \" for n in range(len(art_meta))] + art_meta[\"Title\"],\n",
    "                    h = widgets.IntRangeSlider(description='Hue', value=[0, 255],\n",
    "                                               min = 0, max = 255, step=1),\n",
    "                    Saturation = 0,\n",
    "                  directory = widgets.Text(value='Rename_File_Here.jpg', disabled=False)):\n",
    "    \n",
    "    num = int(image.split('.')[0])\n",
    "    img = cv2.imread(\"../\" + foldername + \"/\" + str(art_meta[\"Accession_number\"][num]) + \".jpg\")\n",
    "    image = cv2.cvtColor(img, cv2.COLOR_BGR2RGB)\n",
    "    img_hsv = cv2.cvtColor(img, cv2.COLOR_BGR2HSV)\n",
    "    \n",
    "    lower_mask = img_hsv[:,:,0] >= int(h[0])\n",
    "    upper_mask = img_hsv[:,:,0] <= int(h[1])\n",
    "    saturation = img_hsv[:,:,1] >= Saturation\n",
    "    mask = upper_mask * lower_mask * saturation\n",
    "    red = image[:,:,0] * mask\n",
    "    green = image[:,:,1] * mask\n",
    "    blue = image[:,:,2] * mask\n",
    "    image_masked = np.dstack((red,green,blue))\n",
    "    plt.figure(num=None, figsize=(15, 15))\n",
    "    plt.imshow(image_masked);\n",
    "    \n",
    "    plt.show()\n",
    "    \n",
    "    def clicked(arg):\n",
    "        download_img = Image.fromarray(image_masked, 'RGB')\n",
    "        download_img.save(directory)\n",
    "        print(\"saved\", end='\\r')\n",
    "    \n",
    "    save_button = widgets.Button(description = 'Save image')   \n",
    "    save_button.on_click(clicked)\n",
    "    display(save_button)"
   ]
  },
  {
   "cell_type": "code",
   "execution_count": null,
   "id": "3f5da8b5",
   "metadata": {},
   "outputs": [],
   "source": []
  }
 ],
 "metadata": {
  "kernelspec": {
   "display_name": "Python 3 (ipykernel)",
   "language": "python",
   "name": "python3"
  },
  "language_info": {
   "codemirror_mode": {
    "name": "ipython",
    "version": 3
   },
   "file_extension": ".py",
   "mimetype": "text/x-python",
   "name": "python",
   "nbconvert_exporter": "python",
   "pygments_lexer": "ipython3",
   "version": "3.9.6"
  }
 },
 "nbformat": 4,
 "nbformat_minor": 5
}
