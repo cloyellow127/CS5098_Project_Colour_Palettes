{
 "cells": [
  {
   "cell_type": "code",
   "execution_count": 1,
   "id": "5f35c3d0",
   "metadata": {},
   "outputs": [],
   "source": [
    "import os\n",
    "import tensorflow as tf\n",
    "import pandas as pd\n",
    "import numpy as np\n",
    "import cv2\n",
    "from skimage.io import imshow, imread\n",
    "os.environ['TFHUB_MODEL_LOAD_FORMAT'] = 'COMPRESSED'\n",
    "import IPython.display as display\n",
    "import matplotlib.pyplot as plt\n",
    "import matplotlib as mpl\n",
    "mpl.rcParams['figure.figsize'] = (12, 12)\n",
    "mpl.rcParams['axes.grid'] = False\n",
    "import numpy as np\n",
    "import PIL.Image\n",
    "import time\n",
    "import functools\n",
    "import tensorflow_hub as hub\n",
    "import ipywidgets as widgets\n",
    "from ipywidgets import interact, interact_manual\n",
    "import time"
   ]
  },
  {
   "cell_type": "markdown",
   "id": "49cf9471",
   "metadata": {},
   "source": [
    "### Desciption\n",
    "This file is just a demo testing the effects of Neural style transfer using tensorflow_hub pre-built model.\n",
    "Full code avilable at: https://www.tensorflow.org/tutorials/generative/style_transfer#build_the_model"
   ]
  },
  {
   "attachments": {
    "image-2.png": {
     "image/png": "[encoded data removed]"
    }
   },
   "cell_type": "markdown",
   "id": "7a72d75d",
   "metadata": {},
   "source": [
    "#### 1. Select an image folder here\n",
    "You will need to have a folder with images contained in the same directory as the 'notebook' folder, with the 'notebook' folder containing this .ipynb file.<br>\n",
    "- content: Your target image folder to run Sytle transfer on.\n",
    "- style: Your sytle image folder.\n",
    "Example: \"samuel_john_peploe\" as the style folder and 'test' containing my target images.\n",
    "![image-2.png](attachment:image-2.png)"
   ]
  },
  {
   "cell_type": "code",
   "execution_count": 2,
   "id": "08b30421",
   "metadata": {},
   "outputs": [
    {
     "data": {
      "application/vnd.jupyter.widget-view+json": {
       "model_id": "e5201656493a46f49c4e5e089826ef85",
       "version_major": 2,
       "version_minor": 0
      },
      "text/plain": [
       "interactive(children=(Dropdown(description='content', options=('LICENSE', 'MSc-CS-Project---ColourPaletteExtra…"
      ]
     },
     "metadata": {},
     "output_type": "display_data"
    }
   ],
   "source": [
    "content_folder = ''\n",
    "style_folder = ''\n",
    "art_meta = None\n",
    "art_colour = None\n",
    "image_formats = ['.jpg', '.jpeg', '.gif', '.png']\n",
    "@interact\n",
    "def content_folder(content = [f for f in os.listdir('../') if '.' not in f],\n",
    "                  style = [f for f in os.listdir('../') if '.' not in f]):\n",
    "    global content_folder, style_folder\n",
    "    content_folder = content\n",
    "    style_folder = style"
   ]
  },
  {
   "cell_type": "code",
   "execution_count": 3,
   "id": "6f92502f",
   "metadata": {},
   "outputs": [],
   "source": [
    "def tensor_to_image(tensor):\n",
    "    tensor = tensor*255\n",
    "    tensor = np.array(tensor, dtype=np.uint8)\n",
    "    if np.ndim(tensor)>3:\n",
    "        assert tensor.shape[0] == 1\n",
    "        tensor = tensor[0]\n",
    "    return PIL.Image.fromarray(tensor)\n",
    "\n",
    "def load_img(path_to_img):\n",
    "    max_dim = 512\n",
    "    img = tf.io.read_file(path_to_img)\n",
    "    img = tf.image.decode_image(img, channels=3)\n",
    "    img = tf.image.convert_image_dtype(img, tf.float32)\n",
    "\n",
    "    shape = tf.cast(tf.shape(img)[:-1], tf.float32)\n",
    "    long_dim = max(shape)\n",
    "    scale = max_dim / long_dim\n",
    "\n",
    "    new_shape = tf.cast(shape * scale, tf.int32)\n",
    "\n",
    "    img = tf.image.resize(img, new_shape)\n",
    "    img = img[tf.newaxis, :]\n",
    "    return img\n",
    "\n",
    "def imshow(image, title=None):\n",
    "    if len(image.shape) > 3:\n",
    "        image = tf.squeeze(image, axis=0)\n",
    "\n",
    "    plt.imshow(image)\n",
    "    if title:\n",
    "        plt.title(title)"
   ]
  },
  {
   "attachments": {
    "image-2.png": {
     "image/png": "[encoded data removed]"
    },
    "image.png": {
     "image/png": "[encoded data removed]"
    }
   },
   "cell_type": "markdown",
   "id": "4b3fe643",
   "metadata": {},
   "source": [
    "#### Fast Style Transfer using TF-Hub, Example code\n",
    "- content_file: the target image you want to apply style on\n",
    "![image.png](attachment:image.png)\n",
    "<br>\n",
    "- style_file: the image to have style tranfered from\n",
    "![image-2.png](attachment:image-2.png)"
   ]
  },
  {
   "cell_type": "code",
   "execution_count": 4,
   "id": "ef66ba50",
   "metadata": {},
   "outputs": [
    {
     "data": {
      "application/vnd.jupyter.widget-view+json": {
       "model_id": "db71967068f1462092651f3ff561be3a",
       "version_major": 2,
       "version_minor": 0
      },
      "text/plain": [
       "interactive(children=(Dropdown(description='content_file', options=('normalface1.jpg', 'vase.jpg'), value='nor…"
      ]
     },
     "metadata": {},
     "output_type": "display_data"
    }
   ],
   "source": [
    "content_image = ''\n",
    "style_image = ''\n",
    "@interact\n",
    "def Example_Fast_Transfer(\n",
    "    content_file = [file for file in os.listdir('../' + str(content_folder))\n",
    "                    if any(word in file for word in image_formats)],\n",
    "    style_file = [file for file in os.listdir('../' + str(style_folder))\n",
    "                    if any(word in file for word in image_formats)]):\n",
    "    \n",
    "    global style_image, content_image, content_folder, style_folder\n",
    "    \n",
    "    content_image = load_img(\"../\" + str(content_folder) + \"/\" + content_file)\n",
    "    style_image = load_img(\"../\" + str(style_folder) + \"/\" + style_file)\n",
    "\n",
    "    plt.subplot(1, 2, 1)\n",
    "    imshow(content_image, 'Content Image')\n",
    "\n",
    "    plt.subplot(1, 2, 2)\n",
    "    imshow(style_image, 'Style Image')\n",
    "    \n",
    "    hub_model = hub.load('https://tfhub.dev/google/magenta/arbitrary-image-stylization-v1-256/2')\n",
    "    stylized_image = hub_model(tf.constant(content_image), tf.constant(style_image))[0]\n",
    "    tensor_to_image(stylized_image)\n",
    "    \n",
    "    plt.figure(num=None, figsize=(10, 10))\n",
    "    imshow(stylized_image, 'Style Transfered Image')\n",
    "    \n",
    "    plt.show()"
   ]
  },
  {
   "cell_type": "code",
   "execution_count": null,
   "id": "ed0bc9cc",
   "metadata": {},
   "outputs": [],
   "source": []
  }
 ],
 "metadata": {
  "kernelspec": {
   "display_name": "Python 3 (ipykernel)",
   "language": "python",
   "name": "python3"
  },
  "language_info": {
   "codemirror_mode": {
    "name": "ipython",
    "version": 3
   },
   "file_extension": ".py",
   "mimetype": "text/x-python",
   "name": "python",
   "nbconvert_exporter": "python",
   "pygments_lexer": "ipython3",
   "version": "3.9.6"
  }
 },
 "nbformat": 4,
 "nbformat_minor": 5
}
